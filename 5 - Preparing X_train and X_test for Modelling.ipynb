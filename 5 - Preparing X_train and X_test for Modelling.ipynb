{
 "cells": [
  {
   "cell_type": "markdown",
   "metadata": {},
   "source": [
    "- This notebook will take the best LDA model (found to be the Mallet Model) and apply it to a training datset which will be split from the full dataset in this notebook.\n",
    "- The trained model will then be applied to the test set in order to generate 'topics' for that set."
   ]
  },
  {
   "cell_type": "code",
   "execution_count": 2,
   "metadata": {},
   "outputs": [],
   "source": [
    "import pandas as pd\n",
    "import numpy as np\n",
    "import os\n",
    "import ast\n",
    "\n",
    "import gensim\n",
    "import gensim.corpora as corpora\n",
    "from gensim.utils import simple_preprocess\n",
    "from gensim.models import CoherenceModel\n",
    "from gensim.models.ldamodel import LdaModel\n",
    "import warnings\n",
    "from PIL import Image\n",
    "\n",
    "from sklearn.model_selection import train_test_split\n",
    "\n",
    "\n",
    "import pyLDAvis\n",
    "from pyLDAvis import gensim as gn \n",
    "import seaborn as sns\n",
    "import matplotlib.pyplot as plt\n",
    "%matplotlib inline"
   ]
  },
  {
   "cell_type": "markdown",
   "metadata": {},
   "source": [
    "# Loading the dataset:"
   ]
  },
  {
   "cell_type": "markdown",
   "metadata": {},
   "source": [
    "- Loading the dataframe prepared in \"Creating the Corpus\" Jupyter Notebook:"
   ]
  },
  {
   "cell_type": "code",
   "execution_count": 3,
   "metadata": {},
   "outputs": [],
   "source": [
    "beers_with_desc = pd.read_csv('Datasets/beers_w_descriptions.csv')"
   ]
  },
  {
   "cell_type": "code",
   "execution_count": 4,
   "metadata": {},
   "outputs": [],
   "source": [
    "# Csv files do not recognize lists of strings well, so removing quotations and remaking the list of prepped words:\n",
    "beers_with_desc.prepped_words = [ast.literal_eval(x) for x in beers_with_desc.prepped_words]"
   ]
  },
  {
   "cell_type": "code",
   "execution_count": 5,
   "metadata": {
    "scrolled": true
   },
   "outputs": [
    {
     "data": {
      "text/html": [
       "<div>\n",
       "<style scoped>\n",
       "    .dataframe tbody tr th:only-of-type {\n",
       "        vertical-align: middle;\n",
       "    }\n",
       "\n",
       "    .dataframe tbody tr th {\n",
       "        vertical-align: top;\n",
       "    }\n",
       "\n",
       "    .dataframe thead th {\n",
       "        text-align: right;\n",
       "    }\n",
       "</style>\n",
       "<table border=\"1\" class=\"dataframe\">\n",
       "  <thead>\n",
       "    <tr style=\"text-align: right;\">\n",
       "      <th></th>\n",
       "      <th>beer_style</th>\n",
       "      <th>abv</th>\n",
       "      <th>num_ratings</th>\n",
       "      <th>beer_style_group</th>\n",
       "      <th>prepped_words</th>\n",
       "      <th>month_added</th>\n",
       "      <th>year_added</th>\n",
       "      <th>successful</th>\n",
       "    </tr>\n",
       "  </thead>\n",
       "  <tbody>\n",
       "    <tr>\n",
       "      <td>0</td>\n",
       "      <td>Altbier</td>\n",
       "      <td>4.5</td>\n",
       "      <td>542</td>\n",
       "      <td>Other</td>\n",
       "      <td>[collaboration, magic, rock]</td>\n",
       "      <td>10</td>\n",
       "      <td>2016</td>\n",
       "      <td>No</td>\n",
       "    </tr>\n",
       "    <tr>\n",
       "      <td>1</td>\n",
       "      <td>Altbier</td>\n",
       "      <td>6.2</td>\n",
       "      <td>783</td>\n",
       "      <td>Other</td>\n",
       "      <td>[beechwood, smoked, meet, double, altbier, str...</td>\n",
       "      <td>3</td>\n",
       "      <td>2014</td>\n",
       "      <td>No</td>\n",
       "    </tr>\n",
       "    <tr>\n",
       "      <td>2</td>\n",
       "      <td>Altbier</td>\n",
       "      <td>4.9</td>\n",
       "      <td>318</td>\n",
       "      <td>Other</td>\n",
       "      <td>[plato, og, wylam, left, handed, giant, come, ...</td>\n",
       "      <td>7</td>\n",
       "      <td>2016</td>\n",
       "      <td>No</td>\n",
       "    </tr>\n",
       "    <tr>\n",
       "      <td>3</td>\n",
       "      <td>Altbier</td>\n",
       "      <td>4.5</td>\n",
       "      <td>228</td>\n",
       "      <td>Other</td>\n",
       "      <td>[dry, hopped, altbier]</td>\n",
       "      <td>7</td>\n",
       "      <td>2016</td>\n",
       "      <td>No</td>\n",
       "    </tr>\n",
       "    <tr>\n",
       "      <td>4</td>\n",
       "      <td>Altbier</td>\n",
       "      <td>5.4</td>\n",
       "      <td>234</td>\n",
       "      <td>Other</td>\n",
       "      <td>[brewdog, collabfest, last, thought, annual, f...</td>\n",
       "      <td>10</td>\n",
       "      <td>2015</td>\n",
       "      <td>No</td>\n",
       "    </tr>\n",
       "  </tbody>\n",
       "</table>\n",
       "</div>"
      ],
      "text/plain": [
       "  beer_style  abv  num_ratings beer_style_group  \\\n",
       "0    Altbier  4.5          542            Other   \n",
       "1    Altbier  6.2          783            Other   \n",
       "2    Altbier  4.9          318            Other   \n",
       "3    Altbier  4.5          228            Other   \n",
       "4    Altbier  5.4          234            Other   \n",
       "\n",
       "                                       prepped_words  month_added  year_added  \\\n",
       "0                       [collaboration, magic, rock]           10        2016   \n",
       "1  [beechwood, smoked, meet, double, altbier, str...            3        2014   \n",
       "2  [plato, og, wylam, left, handed, giant, come, ...            7        2016   \n",
       "3                             [dry, hopped, altbier]            7        2016   \n",
       "4  [brewdog, collabfest, last, thought, annual, f...           10        2015   \n",
       "\n",
       "  successful  \n",
       "0         No  \n",
       "1         No  \n",
       "2         No  \n",
       "3         No  \n",
       "4         No  "
      ]
     },
     "execution_count": 5,
     "metadata": {},
     "output_type": "execute_result"
    }
   ],
   "source": [
    "beers_with_desc.head()"
   ]
  },
  {
   "cell_type": "markdown",
   "metadata": {},
   "source": [
    "# Building the Topic Model for the training set:"
   ]
  },
  {
   "cell_type": "markdown",
   "metadata": {},
   "source": [
    "- Again using the source here: Source: https://www.machinelearningplus.com/nlp/topic-modeling-gensim-python/"
   ]
  },
  {
   "cell_type": "code",
   "execution_count": null,
   "metadata": {},
   "outputs": [],
   "source": [
    "# To replicate the below you will need to download and unzip the following file:\n",
    "# http://mallet.cs.umass.edu/dist/mallet-2.0.8.zip\n",
    "# Save it in a folder called 'new_mallet' in the C Drive."
   ]
  },
  {
   "cell_type": "code",
   "execution_count": 6,
   "metadata": {},
   "outputs": [],
   "source": [
    "os.environ.update({'MALLET_HOME': r'C:/new_mallet/mallet-2.0.8/'})"
   ]
  },
  {
   "cell_type": "code",
   "execution_count": 7,
   "metadata": {
    "scrolled": false
   },
   "outputs": [],
   "source": [
    "mallet_path = 'C:/new_mallet/mallet-2.0.8/bin/mallet'"
   ]
  },
  {
   "cell_type": "markdown",
   "metadata": {},
   "source": [
    "## Splitting the dataframe into training and test sets:"
   ]
  },
  {
   "cell_type": "code",
   "execution_count": 8,
   "metadata": {},
   "outputs": [],
   "source": [
    "X = beers_with_desc.drop(['successful'], axis=1)\n",
    "y = beers_with_desc.successful"
   ]
  },
  {
   "cell_type": "code",
   "execution_count": 9,
   "metadata": {},
   "outputs": [
    {
     "name": "stdout",
     "output_type": "stream",
     "text": [
      "(13561, 7) (5812, 7) (13561,) (5812,)\n"
     ]
    }
   ],
   "source": [
    "X_train, X_test, y_train, y_test = train_test_split(X, y, test_size=0.3, random_state = 42)\n",
    "print(X_train.shape, X_test.shape, y_train.shape, y_test.shape)"
   ]
  },
  {
   "cell_type": "code",
   "execution_count": 10,
   "metadata": {
    "scrolled": true
   },
   "outputs": [
    {
     "data": {
      "text/html": [
       "<div>\n",
       "<style scoped>\n",
       "    .dataframe tbody tr th:only-of-type {\n",
       "        vertical-align: middle;\n",
       "    }\n",
       "\n",
       "    .dataframe tbody tr th {\n",
       "        vertical-align: top;\n",
       "    }\n",
       "\n",
       "    .dataframe thead th {\n",
       "        text-align: right;\n",
       "    }\n",
       "</style>\n",
       "<table border=\"1\" class=\"dataframe\">\n",
       "  <thead>\n",
       "    <tr style=\"text-align: right;\">\n",
       "      <th></th>\n",
       "      <th>beer_style</th>\n",
       "      <th>abv</th>\n",
       "      <th>num_ratings</th>\n",
       "      <th>beer_style_group</th>\n",
       "      <th>prepped_words</th>\n",
       "      <th>month_added</th>\n",
       "      <th>year_added</th>\n",
       "    </tr>\n",
       "  </thead>\n",
       "  <tbody>\n",
       "    <tr>\n",
       "      <td>0</td>\n",
       "      <td>Scottish Ale</td>\n",
       "      <td>5.2</td>\n",
       "      <td>342</td>\n",
       "      <td>Other</td>\n",
       "      <td>[traditional, dark, amber, scottish, maltyswee...</td>\n",
       "      <td>5</td>\n",
       "      <td>2018</td>\n",
       "    </tr>\n",
       "    <tr>\n",
       "      <td>1</td>\n",
       "      <td>Old Ale</td>\n",
       "      <td>5.0</td>\n",
       "      <td>1088</td>\n",
       "      <td>Other</td>\n",
       "      <td>[dark, red, fruity, chocolate]</td>\n",
       "      <td>3</td>\n",
       "      <td>2012</td>\n",
       "    </tr>\n",
       "    <tr>\n",
       "      <td>2</td>\n",
       "      <td>Lager - Winter</td>\n",
       "      <td>7.0</td>\n",
       "      <td>1479</td>\n",
       "      <td>Lager</td>\n",
       "      <td>[colorado, winter, celebrated, maybe, season, ...</td>\n",
       "      <td>12</td>\n",
       "      <td>2015</td>\n",
       "    </tr>\n",
       "  </tbody>\n",
       "</table>\n",
       "</div>"
      ],
      "text/plain": [
       "       beer_style  abv  num_ratings beer_style_group  \\\n",
       "0    Scottish Ale  5.2          342            Other   \n",
       "1         Old Ale  5.0         1088            Other   \n",
       "2  Lager - Winter  7.0         1479            Lager   \n",
       "\n",
       "                                       prepped_words  month_added  year_added  \n",
       "0  [traditional, dark, amber, scottish, maltyswee...            5        2018  \n",
       "1                     [dark, red, fruity, chocolate]            3        2012  \n",
       "2  [colorado, winter, celebrated, maybe, season, ...           12        2015  "
      ]
     },
     "execution_count": 10,
     "metadata": {},
     "output_type": "execute_result"
    }
   ],
   "source": [
    "X_train = X_train.reset_index(drop=True)\n",
    "X_train.head(3)"
   ]
  },
  {
   "cell_type": "markdown",
   "metadata": {},
   "source": [
    "## Creating corpus for the training set (using same technique used on whole dataframe):"
   ]
  },
  {
   "cell_type": "code",
   "execution_count": 11,
   "metadata": {},
   "outputs": [],
   "source": [
    "train_words = X_train.prepped_words.to_list()"
   ]
  },
  {
   "cell_type": "code",
   "execution_count": 12,
   "metadata": {},
   "outputs": [],
   "source": [
    "id2word_train = corpora.Dictionary(train_words)"
   ]
  },
  {
   "cell_type": "code",
   "execution_count": 13,
   "metadata": {},
   "outputs": [],
   "source": [
    "corpus_train = [id2word_train.doc2bow(text) for text in train_words]"
   ]
  },
  {
   "cell_type": "markdown",
   "metadata": {},
   "source": [
    "## Finding Ideal Number of Topics for Training Set:"
   ]
  },
  {
   "cell_type": "code",
   "execution_count": 20,
   "metadata": {},
   "outputs": [],
   "source": [
    "# Source: https://www.machinelearningplus.com/nlp/topic-modeling-gensim-python/\n",
    "def compute_coherence_values(dictionary, corpus, texts, limit, start=2, step=3):\n",
    "    \"\"\"\n",
    "    Compute c_v coherence for various number of topics\n",
    "\n",
    "    Parameters:\n",
    "    ----------\n",
    "    dictionary : Gensim dictionary\n",
    "    corpus : Gensim corpus\n",
    "    texts : List of input texts\n",
    "    limit : Max num of topics\n",
    "\n",
    "    Returns:\n",
    "    -------\n",
    "    model_list : List of LDA topic models\n",
    "    coherence_values : Coherence values corresponding to the LDA model with respective number of topics\n",
    "    \"\"\"\n",
    "    coherence_values = []\n",
    "    model_list = []\n",
    "    for num_topics in range(start, limit, step):\n",
    "        model = gensim.models.wrappers.LdaMallet(mallet_path, corpus=corpus, num_topics=num_topics, id2word=dictionary, random_seed = 15)\n",
    "        model_list.append(model)\n",
    "        coherencemodel = CoherenceModel(model=model, texts=texts, dictionary=dictionary, coherence='c_v')\n",
    "        coherence_values.append(coherencemodel.get_coherence())\n",
    "\n",
    "    return model_list, coherence_values"
   ]
  },
  {
   "cell_type": "code",
   "execution_count": 21,
   "metadata": {},
   "outputs": [],
   "source": [
    "# Using function defined above:\n",
    "\n",
    "model_list_train, coherence_values_train = compute_coherence_values(dictionary=id2word_train, corpus=corpus_train, \n",
    "                                                        texts=train_words, start=2, limit=16, step=1)"
   ]
  },
  {
   "cell_type": "code",
   "execution_count": 22,
   "metadata": {},
   "outputs": [
    {
     "data": {
      "image/png": "[encoded data removed]",
      "text/plain": [
       "<Figure size 432x288 with 1 Axes>"
      ]
     },
     "metadata": {
      "needs_background": "light"
     },
     "output_type": "display_data"
    }
   ],
   "source": [
    "# Show graph of search:\n",
    "\n",
    "limit=16; start=2; step=1;\n",
    "x = range(start, limit, step)\n",
    "plt.plot(x, coherence_values_train)\n",
    "plt.xlabel(\"Num Topics\")\n",
    "plt.ylabel(\"Coherence score\")\n",
    "plt.xticks(x)\n",
    "plt.grid('on')\n",
    "plt.show()"
   ]
  },
  {
   "cell_type": "code",
   "execution_count": 35,
   "metadata": {},
   "outputs": [
    {
     "data": {
      "text/plain": [
       "0.6237073263530578"
      ]
     },
     "execution_count": 35,
     "metadata": {},
     "output_type": "execute_result"
    }
   ],
   "source": [
    "max(coherence_values_train)"
   ]
  },
  {
   "cell_type": "markdown",
   "metadata": {},
   "source": [
    "- The plot above reaches  maximum coherence at 6 topics and then levels out/declines, this is similar to what we saw when we applied the model to the entire dataframe. \n",
    "- I will choose 6 topics here for the optimal model (this is at index 4 as num topics starts at 2):"
   ]
  },
  {
   "cell_type": "code",
   "execution_count": 67,
   "metadata": {},
   "outputs": [
    {
     "name": "stdout",
     "output_type": "stream",
     "text": [
      "[(0, '0.037*\"dry\" + 0.032*\"fruit\" + 0.026*\"hopped\" + 0.024*\"citra\" + 0.020*\"tropical\" + 0.020*\"citrus\" + 0.017*\"mosaic\" + 0.017*\"oat\" + 0.014*\"double\" + 0.013*\"big\"'), (1, '0.014*\"time\" + 0.014*\"collaboration\" + 0.010*\"friend\" + 0.010*\"make\" + 0.010*\"day\" + 0.009*\"back\" + 0.009*\"good\" + 0.007*\"love\" + 0.007*\"enjoy\" + 0.006*\"release\"'), (2, '0.054*\"barrel\" + 0.040*\"aged\" + 0.022*\"bourbon\" + 0.021*\"oak\" + 0.020*\"sour\" + 0.018*\"fermented\" + 0.014*\"cider\" + 0.012*\"rye\" + 0.012*\"wine\" + 0.012*\"cherry\"'), (3, '0.023*\"bitterness\" + 0.020*\"full\" + 0.018*\"balanced\" + 0.017*\"orange\" + 0.016*\"give\" + 0.013*\"body\" + 0.013*\"sweetness\" + 0.013*\"bitter\" + 0.013*\"smooth\" + 0.013*\"sweet\"'), (4, '0.036*\"yeast\" + 0.025*\"light\" + 0.019*\"crisp\" + 0.019*\"refreshing\" + 0.017*\"belgian\" + 0.016*\"classic\" + 0.016*\"wheat\" + 0.014*\"clean\" + 0.014*\"traditional\" + 0.014*\"fruity\"'), (5, '0.039*\"coffee\" + 0.039*\"dark\" + 0.038*\"chocolate\" + 0.031*\"vanilla\" + 0.029*\"rich\" + 0.018*\"black\" + 0.016*\"roasted\" + 0.015*\"porter\" + 0.014*\"sweet\" + 0.012*\"sugar\"')]\n"
     ]
    }
   ],
   "source": [
    "# Specifying the opimal model from the list found above and printing out the topics and the 10 most important words in each topic.\n",
    "optimal_training_model = model_list_train[4]\n",
    "model_topics_train = optimal_training_model.show_topics(formatted=False)\n",
    "print(optimal_training_model.print_topics(num_words=10))"
   ]
  },
  {
   "cell_type": "markdown",
   "metadata": {},
   "source": [
    "## Creating a dataframe of the training data text assigned with a topic:"
   ]
  },
  {
   "cell_type": "code",
   "execution_count": 25,
   "metadata": {},
   "outputs": [],
   "source": [
    "# Source: https://www.machinelearningplus.com/nlp/topic-modeling-gensim-python/\n",
    "def format_topics_sentences(ldamodel, corpus, texts):\n",
    "    # Init output\n",
    "    sent_topics_df = pd.DataFrame()\n",
    "\n",
    "    # Get main topic in each document\n",
    "    for i, row in enumerate(ldamodel[corpus]):\n",
    "        row = sorted(row, key=lambda x: (x[1]), reverse=True)\n",
    "        # Get the Dominant topic, Perc Contribution and Keywords for each document\n",
    "        for j, (topic_num, prop_topic) in enumerate(row):\n",
    "            if j == 0:  # => dominant topic\n",
    "                wp = ldamodel.show_topic(topic_num)\n",
    "                topic_keywords = \", \".join([word for word, prop in wp])\n",
    "                sent_topics_df = sent_topics_df.append(pd.Series([int(topic_num), round(prop_topic,4), topic_keywords]), ignore_index=True)\n",
    "            else:\n",
    "                break\n",
    "    sent_topics_df.columns = ['Dominant_Topic', 'Perc_Contribution', 'Topic_Keywords']\n",
    "\n",
    "    # Add original text to the end of the output\n",
    "    contents = pd.Series(texts)\n",
    "    sent_topics_df = pd.concat([sent_topics_df, contents], axis=1)\n",
    "    return(sent_topics_df)"
   ]
  },
  {
   "cell_type": "code",
   "execution_count": 29,
   "metadata": {},
   "outputs": [],
   "source": [
    "train_topics_df = format_topics_sentences(optimal_training_model, corpus_train, train_words)"
   ]
  },
  {
   "cell_type": "code",
   "execution_count": 30,
   "metadata": {
    "scrolled": true
   },
   "outputs": [
    {
     "data": {
      "text/html": [
       "<div>\n",
       "<style scoped>\n",
       "    .dataframe tbody tr th:only-of-type {\n",
       "        vertical-align: middle;\n",
       "    }\n",
       "\n",
       "    .dataframe tbody tr th {\n",
       "        vertical-align: top;\n",
       "    }\n",
       "\n",
       "    .dataframe thead th {\n",
       "        text-align: right;\n",
       "    }\n",
       "</style>\n",
       "<table border=\"1\" class=\"dataframe\">\n",
       "  <thead>\n",
       "    <tr style=\"text-align: right;\">\n",
       "      <th></th>\n",
       "      <th>Description_No</th>\n",
       "      <th>Dominant_Topic</th>\n",
       "      <th>Topic_Perc_Contrib</th>\n",
       "      <th>Keywords_in_Topic</th>\n",
       "      <th>Text</th>\n",
       "    </tr>\n",
       "  </thead>\n",
       "  <tbody>\n",
       "    <tr>\n",
       "      <td>0</td>\n",
       "      <td>0</td>\n",
       "      <td>4.0</td>\n",
       "      <td>0.2573</td>\n",
       "      <td>bitterness, full, balanced, orange, give, body...</td>\n",
       "      <td>[traditional, dark, amber, scottish, maltyswee...</td>\n",
       "    </tr>\n",
       "    <tr>\n",
       "      <td>1</td>\n",
       "      <td>1</td>\n",
       "      <td>6.0</td>\n",
       "      <td>0.1914</td>\n",
       "      <td>coffee, dark, chocolate, vanilla, rich, black,...</td>\n",
       "      <td>[dark, red, fruity, chocolate]</td>\n",
       "    </tr>\n",
       "    <tr>\n",
       "      <td>2</td>\n",
       "      <td>2</td>\n",
       "      <td>2.0</td>\n",
       "      <td>0.2352</td>\n",
       "      <td>time, collaboration, friend, make, day, back, ...</td>\n",
       "      <td>[colorado, winter, celebrated, maybe, season, ...</td>\n",
       "    </tr>\n",
       "    <tr>\n",
       "      <td>3</td>\n",
       "      <td>3</td>\n",
       "      <td>1.0</td>\n",
       "      <td>0.2444</td>\n",
       "      <td>dry, fruit, hopped, citra, tropical, citrus, m...</td>\n",
       "      <td>[bouncer, usually, stop, door, shoe, guy, musc...</td>\n",
       "    </tr>\n",
       "    <tr>\n",
       "      <td>4</td>\n",
       "      <td>4</td>\n",
       "      <td>6.0</td>\n",
       "      <td>0.1988</td>\n",
       "      <td>coffee, dark, chocolate, vanilla, rich, black,...</td>\n",
       "      <td>[tribute, classic, golden, gaytime, ice, cream...</td>\n",
       "    </tr>\n",
       "  </tbody>\n",
       "</table>\n",
       "</div>"
      ],
      "text/plain": [
       "   Description_No  Dominant_Topic  Topic_Perc_Contrib  \\\n",
       "0               0             4.0              0.2573   \n",
       "1               1             6.0              0.1914   \n",
       "2               2             2.0              0.2352   \n",
       "3               3             1.0              0.2444   \n",
       "4               4             6.0              0.1988   \n",
       "\n",
       "                                   Keywords_in_Topic  \\\n",
       "0  bitterness, full, balanced, orange, give, body...   \n",
       "1  coffee, dark, chocolate, vanilla, rich, black,...   \n",
       "2  time, collaboration, friend, make, day, back, ...   \n",
       "3  dry, fruit, hopped, citra, tropical, citrus, m...   \n",
       "4  coffee, dark, chocolate, vanilla, rich, black,...   \n",
       "\n",
       "                                                Text  \n",
       "0  [traditional, dark, amber, scottish, maltyswee...  \n",
       "1                     [dark, red, fruity, chocolate]  \n",
       "2  [colorado, winter, celebrated, maybe, season, ...  \n",
       "3  [bouncer, usually, stop, door, shoe, guy, musc...  \n",
       "4  [tribute, classic, golden, gaytime, ice, cream...  "
      ]
     },
     "execution_count": 30,
     "metadata": {},
     "output_type": "execute_result"
    }
   ],
   "source": [
    "# Format\n",
    "train_topics_df = train_topics_df.reset_index()\n",
    "train_topics_df.columns = ['Description_No', 'Dominant_Topic', 'Topic_Perc_Contrib', 'Keywords_in_Topic', 'Text']\n",
    "train_topics_df['Dominant_Topic'] = train_topics_df['Dominant_Topic'] + 1\n",
    "train_topics_df.head()"
   ]
  },
  {
   "cell_type": "markdown",
   "metadata": {},
   "source": [
    "# Visualizing the training data topics spread:"
   ]
  },
  {
   "cell_type": "code",
   "execution_count": 31,
   "metadata": {},
   "outputs": [],
   "source": [
    "def ldaMalletConvertToldaGen(mallet_model):\n",
    "    model_gensim = LdaModel(id2word=mallet_model.id2word, num_topics=mallet_model.num_topics, \n",
    "                            alpha=mallet_model.alpha, eta=0, iterations=1000, gamma_threshold=0.001, dtype=np.float32)\n",
    "    model_gensim.state.sstats[...] = mallet_model.wordtopics\n",
    "    model_gensim.sync_state()\n",
    "    return model_gensim"
   ]
  },
  {
   "cell_type": "code",
   "execution_count": 32,
   "metadata": {},
   "outputs": [],
   "source": [
    "# Converting first to feed into viz tool:\n",
    "converted_model_train = ldaMalletConvertToldaGen(optimal_training_model)"
   ]
  },
  {
   "cell_type": "code",
   "execution_count": 33,
   "metadata": {},
   "outputs": [
    {
     "name": "stderr",
     "output_type": "stream",
     "text": [
      "C:\\Users\\rozhouse\\Anaconda3\\lib\\site-packages\\pyLDAvis\\_prepare.py:223: RuntimeWarning: divide by zero encountered in log\n",
      "  kernel = (topic_given_term * np.log((topic_given_term.T / topic_proportion).T))\n",
      "C:\\Users\\rozhouse\\Anaconda3\\lib\\site-packages\\pyLDAvis\\_prepare.py:240: RuntimeWarning: divide by zero encountered in log\n",
      "  log_lift = np.log(topic_term_dists / term_proportion)\n",
      "C:\\Users\\rozhouse\\Anaconda3\\lib\\site-packages\\pyLDAvis\\_prepare.py:241: RuntimeWarning: divide by zero encountered in log\n",
      "  log_ttd = np.log(topic_term_dists)\n",
      "C:\\Users\\rozhouse\\Anaconda3\\lib\\site-packages\\pyLDAvis\\_prepare.py:257: FutureWarning: Sorting because non-concatenation axis is not aligned. A future version\n",
      "of pandas will change to not sort by default.\n",
      "\n",
      "To accept the future behavior, pass 'sort=False'.\n",
      "\n",
      "To retain the current behavior and silence the warning, pass 'sort=True'.\n",
      "\n",
      "  return pd.concat([default_term_info] + list(topic_dfs))\n"
     ]
    },
    {
     "data": {
      "text/html": [
       "\n",
       "<link rel=\"stylesheet\" type=\"text/css\" href=\"https://cdn.rawgit.com/bmabey/pyLDAvis/files/ldavis.v1.0.0.css\">\n",
       "\n",
       "\n",
       "<div id=\"ldavis_el1599617650212903125783179266\"></div>\n",
       "<script type=\"text/javascript\">\n",
       "\n",
       "var ldavis_el1599617650212903125783179266_data = {\"mdsDat\": {\"x\": [0.1422076359785988, -0.3078029205755174, -0.2396282879850844, 0.19161201486387308, 0.037073838745791086, 0.1765377189723386], \"y\": [0.26223496821255343, 0.010054060380873413, -0.12230787313473138, -0.12744041606372628, 0.2517294537273912, -0.27427019312236034], \"topics\": [1, 2, 3, 4, 5, 6], \"cluster\": [1, 1, 1, 1, 1, 1], \"Freq\": [16.66969871520996, 17.786531448364258, 16.385662078857422, 16.634521484375, 16.339271545410156, 16.1843204498291]}, \"tinfo\": {\"Category\": [\"Default\", \"Default\", \"Default\", \"Default\", \"Default\", \"Default\", \"Default\", \"Default\", \"Default\", \"Default\", \"Default\", \"Default\", \"Default\", \"Default\", \"Default\", \"Default\", \"Default\", \"Default\", \"Default\", \"Default\", \"Default\", \"Default\", \"Default\", \"Default\", \"Default\", \"Default\", \"Default\", \"Default\", \"Default\", \"Default\", \"Topic1\", \"Topic1\", \"Topic1\", \"Topic1\", \"Topic1\", \"Topic1\", \"Topic1\", \"Topic1\", \"Topic1\", \"Topic1\", \"Topic1\", \"Topic1\", \"Topic1\", \"Topic1\", \"Topic1\", \"Topic1\", \"Topic1\", \"Topic1\", \"Topic1\", \"Topic1\", \"Topic1\", \"Topic1\", \"Topic1\", \"Topic1\", \"Topic1\", \"Topic1\", \"Topic1\", \"Topic1\", \"Topic1\", \"Topic1\", \"Topic1\", \"Topic1\", \"Topic1\", \"Topic1\", \"Topic1\", \"Topic1\", \"Topic1\", \"Topic1\", \"Topic1\", \"Topic1\", \"Topic1\", \"Topic1\", \"Topic1\", \"Topic1\", \"Topic1\", \"Topic1\", \"Topic1\", \"Topic1\", \"Topic1\", \"Topic1\", \"Topic1\", \"Topic1\", \"Topic1\", \"Topic1\", \"Topic1\", \"Topic1\", \"Topic1\", \"Topic1\", \"Topic1\", \"Topic1\", \"Topic1\", \"Topic1\", \"Topic1\", \"Topic1\", \"Topic1\", \"Topic1\", \"Topic1\", \"Topic1\", \"Topic2\", \"Topic2\", \"Topic2\", \"Topic2\", \"Topic2\", \"Topic2\", \"Topic2\", \"Topic2\", \"Topic2\", \"Topic2\", \"Topic2\", \"Topic2\", \"Topic2\", \"Topic2\", \"Topic2\", \"Topic2\", \"Topic2\", \"Topic2\", \"Topic2\", \"Topic2\", \"Topic2\", \"Topic2\", \"Topic2\", \"Topic2\", \"Topic2\", \"Topic2\", \"Topic2\", \"Topic2\", \"Topic2\", \"Topic2\", \"Topic2\", \"Topic2\", \"Topic2\", \"Topic2\", \"Topic2\", \"Topic2\", \"Topic2\", \"Topic2\", \"Topic2\", \"Topic2\", \"Topic2\", \"Topic2\", \"Topic2\", \"Topic2\", \"Topic2\", \"Topic2\", \"Topic2\", \"Topic2\", \"Topic2\", \"Topic2\", \"Topic2\", \"Topic2\", \"Topic2\", \"Topic2\", \"Topic2\", \"Topic2\", \"Topic2\", \"Topic2\", \"Topic2\", \"Topic2\", \"Topic2\", \"Topic2\", \"Topic2\", \"Topic2\", \"Topic2\", \"Topic2\", \"Topic2\", \"Topic2\", \"Topic2\", \"Topic2\", \"Topic2\", \"Topic2\", \"Topic3\", \"Topic3\", \"Topic3\", \"Topic3\", \"Topic3\", \"Topic3\", \"Topic3\", \"Topic3\", \"Topic3\", \"Topic3\", \"Topic3\", \"Topic3\", \"Topic3\", \"Topic3\", \"Topic3\", \"Topic3\", \"Topic3\", \"Topic3\", \"Topic3\", \"Topic3\", \"Topic3\", \"Topic3\", \"Topic3\", \"Topic3\", \"Topic3\", \"Topic3\", \"Topic3\", \"Topic3\", \"Topic3\", \"Topic3\", \"Topic3\", \"Topic3\", \"Topic3\", \"Topic3\", \"Topic3\", \"Topic3\", \"Topic3\", \"Topic3\", \"Topic3\", \"Topic3\", \"Topic3\", \"Topic3\", \"Topic3\", \"Topic3\", \"Topic3\", \"Topic3\", \"Topic3\", \"Topic3\", \"Topic3\", \"Topic3\", \"Topic3\", \"Topic3\", \"Topic3\", \"Topic3\", \"Topic3\", \"Topic3\", \"Topic3\", \"Topic3\", \"Topic3\", \"Topic3\", \"Topic3\", \"Topic3\", \"Topic3\", \"Topic3\", \"Topic3\", \"Topic3\", \"Topic3\", \"Topic3\", \"Topic4\", \"Topic4\", \"Topic4\", \"Topic4\", \"Topic4\", \"Topic4\", \"Topic4\", \"Topic4\", \"Topic4\", \"Topic4\", \"Topic4\", \"Topic4\", \"Topic4\", \"Topic4\", \"Topic4\", \"Topic4\", \"Topic4\", \"Topic4\", \"Topic4\", \"Topic4\", \"Topic4\", \"Topic4\", \"Topic4\", \"Topic4\", \"Topic4\", \"Topic4\", \"Topic4\", \"Topic4\", \"Topic4\", \"Topic4\", \"Topic4\", \"Topic4\", \"Topic4\", \"Topic4\", \"Topic4\", \"Topic4\", \"Topic4\", \"Topic4\", \"Topic4\", \"Topic4\", \"Topic4\", \"Topic4\", \"Topic4\", \"Topic4\", \"Topic4\", \"Topic4\", \"Topic4\", \"Topic4\", \"Topic4\", \"Topic4\", \"Topic4\", \"Topic4\", \"Topic4\", \"Topic4\", \"Topic4\", \"Topic4\", \"Topic4\", \"Topic4\", \"Topic4\", \"Topic4\", \"Topic4\", \"Topic4\", \"Topic4\", \"Topic4\", \"Topic4\", \"Topic4\", \"Topic4\", \"Topic4\", \"Topic4\", \"Topic4\", \"Topic4\", \"Topic4\", \"Topic5\", \"Topic5\", \"Topic5\", \"Topic5\", \"Topic5\", \"Topic5\", \"Topic5\", \"Topic5\", \"Topic5\", \"Topic5\", \"Topic5\", \"Topic5\", \"Topic5\", \"Topic5\", \"Topic5\", \"Topic5\", \"Topic5\", \"Topic5\", \"Topic5\", \"Topic5\", \"Topic5\", \"Topic5\", \"Topic5\", \"Topic5\", \"Topic5\", \"Topic5\", \"Topic5\", \"Topic5\", \"Topic5\", \"Topic5\", \"Topic5\", \"Topic5\", \"Topic5\", \"Topic5\", \"Topic5\", \"Topic5\", \"Topic5\", \"Topic5\", \"Topic5\", \"Topic5\", \"Topic5\", \"Topic5\", \"Topic5\", \"Topic5\", \"Topic5\", \"Topic5\", \"Topic5\", \"Topic5\", \"Topic5\", \"Topic5\", \"Topic5\", \"Topic5\", \"Topic5\", \"Topic5\", \"Topic5\", \"Topic5\", \"Topic5\", \"Topic5\", \"Topic5\", \"Topic5\", \"Topic5\", \"Topic5\", \"Topic5\", \"Topic5\", \"Topic5\", \"Topic5\", \"Topic5\", \"Topic5\", \"Topic5\", \"Topic6\", \"Topic6\", \"Topic6\", \"Topic6\", \"Topic6\", \"Topic6\", \"Topic6\", \"Topic6\", \"Topic6\", \"Topic6\", \"Topic6\", \"Topic6\", \"Topic6\", \"Topic6\", \"Topic6\", \"Topic6\", \"Topic6\", \"Topic6\", \"Topic6\", \"Topic6\", \"Topic6\", \"Topic6\", \"Topic6\", \"Topic6\", \"Topic6\", \"Topic6\", \"Topic6\", \"Topic6\", \"Topic6\", \"Topic6\", \"Topic6\", \"Topic6\", \"Topic6\", \"Topic6\", \"Topic6\", \"Topic6\", \"Topic6\", \"Topic6\", \"Topic6\", \"Topic6\", \"Topic6\", \"Topic6\", \"Topic6\", \"Topic6\", \"Topic6\", \"Topic6\", \"Topic6\", \"Topic6\", \"Topic6\", \"Topic6\", \"Topic6\", \"Topic6\", \"Topic6\", \"Topic6\", \"Topic6\", \"Topic6\", \"Topic6\", \"Topic6\", \"Topic6\", \"Topic6\", \"Topic6\", \"Topic6\", \"Topic6\", \"Topic6\", \"Topic6\", \"Topic6\", \"Topic6\", \"Topic6\"], \"Freq\": [2757.0, 2056.0, 1948.0, 1943.0, 1911.0, 1896.0, 1831.0, 1538.0, 2037.0, 1452.0, 1333.0, 1242.0, 1227.0, 1211.0, 1116.0, 1048.0, 1057.0, 1028.0, 1007.0, 972.0, 939.0, 932.0, 1262.0, 905.0, 882.0, 876.0, 861.0, 861.0, 1372.0, 949.0, 3.1567232608795166, 3.1567232608795166, 3.1567232608795166, 6.313446521759033, 6.313446521759033, 7.365687847137451, 3.1567232608795166, 6.313446521759033, 3.1567232608795166, 3.1567232608795166, 171.5153045654297, 6.313446521759033, 3.1567232608795166, 38.93292236328125, 357.7619934082031, 3.1567232608795166, 3.1567232608795166, 7.365687847137451, 6.313446521759033, 3.1567232608795166, 3.1567232608795166, 3.1567232608795166, 3.1567232608795166, 3.1567232608795166, 173.61978149414062, 43.141883850097656, 3.1567232608795166, 14.731375694274902, 6.313446521759033, 12.626893043518066, 1896.1385498046875, 1333.189453125, 1227.9654541015625, 1057.5023193359375, 882.8302612304688, 861.7855224609375, 731.3076171875, 665.0164184570312, 580.8370971679688, 524.01611328125, 445.0980224609375, 432.47113037109375, 384.0680236816406, 379.8590393066406, 364.075439453125, 356.7097473144531, 353.5530090332031, 327.2469787597656, 323.03802490234375, 498.7623291015625, 319.8813171386719, 381.9635314941406, 263.0602722167969, 260.9557800292969, 248.3289031982422, 242.0154571533203, 238.85873413085938, 238.85873413085938, 227.28408813476562, 1654.1229248046875, 1026.9873046875, 694.4791259765625, 271.47821044921875, 338.8216247558594, 290.4185485839844, 576.628173828125, 309.35888671875, 313.56787109375, 153.32899475097656, 2.2061727046966553, 9.927777290344238, 2.2061727046966553, 1.1030863523483276, 4.4123454093933105, 3.3092591762542725, 1.1030863523483276, 8.824690818786621, 4.4123454093933105, 1.1030863523483276, 3.3092591762542725, 2.2061727046966553, 11.030863761901855, 7.721604347229004, 13.23703670501709, 18.75246810913086, 5.515431880950928, 6.618518352508545, 2.2061727046966553, 5.515431880950928, 3.3092591762542725, 7.721604347229004, 1.1030863523483276, 3.3092591762542725, 6.618518352508545, 9.927777290344238, 8.824690818786621, 4.4123454093933105, 3.3092591762542725, 798.634521484375, 568.0894775390625, 557.0586547851562, 507.41973876953125, 372.84320068359375, 325.4104919433594, 300.03948974609375, 261.43145751953125, 247.09133911132812, 233.8542938232422, 218.41111755371094, 215.1018524169922, 213.99876403808594, 208.48333740234375, 207.3802490234375, 202.9678955078125, 200.76171875, 185.31851196289062, 183.11233520507812, 180.9061737060547, 179.80308532714844, 175.39073181152344, 169.87530517578125, 166.5660400390625, 162.15370178222656, 158.8444366455078, 155.53517150878906, 154.4320831298828, 146.7104949951172, 477.6363830566406, 221.72036743164062, 369.533935546875, 563.6771240234375, 766.64501953125, 329.82281494140625, 333.132080078125, 333.132080078125, 276.87469482421875, 292.3179016113281, 228.33889770507812, 211.79258728027344, 199.65863037109375, 1.0828856229782104, 3.248656749725342, 5.414428234100342, 1.0828856229782104, 5.414428234100342, 1.0828856229782104, 1.0828856229782104, 1.0828856229782104, 3.248656749725342, 4.331542491912842, 3.248656749725342, 1.0828856229782104, 14.077512741088867, 1.0828856229782104, 4.331542491912842, 6.497313499450684, 10.828856468200684, 14.077512741088867, 1.0828856229782104, 9.745970726013184, 17.326169967651367, 2.165771245956421, 4.331542491912842, 8.663084983825684, 4.331542491912842, 1.0828856229782104, 5.414428234100342, 3.248656749725342, 8.663084983825684, 12.994626998901367, 2757.02685546875, 2056.399658203125, 1048.2332763671875, 1115.3721923828125, 1007.0836181640625, 689.7981567382812, 619.4105834960938, 595.5870971679688, 557.6860961914062, 541.4428100585938, 517.6193237304688, 449.3975524902344, 421.24249267578125, 361.68377685546875, 350.85491943359375, 337.8603210449219, 327.0314636230469, 546.8572387695312, 290.2133483886719, 269.6385192871094, 266.3898620605469, 254.47811889648438, 232.82041931152344, 223.07443237304688, 223.07443237304688, 213.32846069335938, 213.32846069335938, 212.24557495117188, 197.08517456054688, 196.00230407714844, 282.6331481933594, 256.6438903808594, 899.8779296875, 622.6592407226562, 540.3599243164062, 515.4535522460938, 241.48348999023438, 259.8925476074219, 9.802462577819824, 9.802462577819824, 9.802462577819824, 19.60492515563965, 9.802462577819824, 9.802462577819824, 9.802462577819824, 9.802462577819824, 9.802462577819824, 9.802462577819824, 9.802462577819824, 9.802462577819824, 9.802462577819824, 9.802462577819824, 156.8394012451172, 9.802462577819824, 9.802462577819824, 9.802462577819824, 9.802462577819824, 9.802462577819824, 9.802462577819824, 19.60492515563965, 78.4197006225586, 9.802462577819824, 9.802462577819824, 19.60492515563965, 9.802462577819824, 9.802462577819824, 19.60492515563965, 9.802462577819824, 1210.0595703125, 1028.16943359375, 932.3231201171875, 876.77587890625, 686.1724243164062, 646.9625854492188, 641.5167236328125, 555.472900390625, 516.2630615234375, 515.1738891601562, 687.2615356445312, 496.65814208984375, 491.2122802734375, 461.804931640625, 817.9610595703125, 602.306884765625, 413.88177490234375, 408.4359436035156, 391.0093688964844, 327.8379211425781, 297.34136962890625, 278.82562255859375, 259.2206726074219, 236.3482666015625, 234.16995239257812, 234.16995239257812, 230.9024658203125, 225.45664978027344, 225.45664978027344, 218.92166137695312, 551.1162719726562, 692.7073364257812, 290.806396484375, 365.9586181640625, 487.9447937011719, 436.754150390625, 664.38916015625, 649.140869140625, 509.72808837890625, 475.9640197753906, 368.1369323730469, 383.38519287109375, 10.833067893981934, 10.833067893981934, 5.416533946990967, 5.416533946990967, 45.49888610839844, 5.416533946990967, 21.666135787963867, 5.416533946990967, 5.416533946990967, 10.833067893981934, 5.416533946990967, 179.8289337158203, 35.749122619628906, 10.833067893981934, 10.833067893981934, 113.7472152709961, 5.416533946990967, 45.49888610839844, 71.49824523925781, 10.833067893981934, 32.499202728271484, 5.416533946990967, 10.833067893981934, 110.4972915649414, 71.49824523925781, 125.66358947753906, 5.416533946990967, 5.416533946990967, 5.416533946990967, 31.415897369384766, 1831.871826171875, 1242.5528564453125, 972.8095092773438, 939.22705078125, 825.479736328125, 860.1456298828125, 725.8156127929688, 703.066162109375, 615.3182983398438, 504.8210144042969, 498.3211669921875, 569.8193969726562, 446.3223876953125, 366.15771484375, 348.8247985839844, 328.2419738769531, 321.74212646484375, 309.82574462890625, 306.5758056640625, 304.4092102050781, 587.1522827148438, 281.6597900390625, 246.9939422607422, 232.9109649658203, 227.4944305419922, 227.4944305419922, 225.3278350830078, 215.57806396484375, 214.4947509765625, 206.91160583496094, 595.8187255859375, 341.24163818359375, 698.73291015625, 796.2305297851562, 515.654052734375, 451.73895263671875, 304.4092102050781, 453.90557861328125, 324.9920349121094, 1.0780826807022095, 30.186315536499023, 3.234247922897339, 6.468495845794678, 1.0780826807022095, 2.156165361404419, 1.0780826807022095, 3.234247922897339, 3.234247922897339, 1.0780826807022095, 1.0780826807022095, 1.0780826807022095, 5.390413284301758, 1.0780826807022095, 8.624661445617676, 3.234247922897339, 1.0780826807022095, 3.234247922897339, 1.0780826807022095, 2.156165361404419, 2.156165361404419, 1.0780826807022095, 1.0780826807022095, 4.312330722808838, 1.0780826807022095, 2.156165361404419, 29.108232498168945, 8.624661445617676, 1.0780826807022095, 1.0780826807022095, 1948.095458984375, 1943.783203125, 1911.4405517578125, 1538.424072265625, 1452.177490234375, 905.5894775390625, 805.3278198242188, 762.2044677734375, 588.6331176757812, 537.9632568359375, 526.1043701171875, 503.464599609375, 535.80712890625, 416.1399230957031, 390.26593017578125, 381.6412658691406, 363.3138732910156, 599.4140014648438, 343.90838623046875, 342.8302917480469, 309.40972900390625, 300.78509521484375, 390.26593017578125, 268.4425964355469, 263.05218505859375, 250.11517333984375, 224.24119567871094, 199.44529724121094, 195.13296508789062, 191.89871215820312, 321.2686462402344, 239.33436584472656, 334.20562744140625, 711.5346069335938, 567.071533203125, 484.05914306640625, 425.8426513671875, 378.40704345703125], \"Term\": [\"barrel\", \"aged\", \"coffee\", \"dark\", \"chocolate\", \"dry\", \"yeast\", \"vanilla\", \"fruit\", \"rich\", \"hopped\", \"light\", \"citra\", \"bitterness\", \"bourbon\", \"oak\", \"tropical\", \"full\", \"sour\", \"crisp\", \"refreshing\", \"balanced\", \"citrus\", \"black\", \"mosaic\", \"orange\", \"belgian\", \"oat\", \"wheat\", \"fermented\", \"nada\", \"deception\", \"rostrevor\", \"accentuating\", \"faithful\", \"alter\", \"anglesey\", \"bucketloads\", \"sessioning\", \"fourway\", \"showcase\", \"jr\", \"circadian\", \"watermelon\", \"extra\", \"martian\", \"ose\", \"mimosa\", \"swag\", \"dependable\", \"sorbetto\", \"ximenez\", \"alba\", \"promote\", \"featuring\", \"huell\", \"induced\", \"protein\", \"moteuka\", \"carrying\", \"dry\", \"hopped\", \"citra\", \"tropical\", \"mosaic\", \"oat\", \"double\", \"juicy\", \"soft\", \"simcoe\", \"pineapple\", \"galaxy\", \"amarillo\", \"juice\", \"grapefruit\", \"pine\", \"hazy\", \"cascade\", \"lime\", \"mango\", \"super\", \"peach\", \"nelson\", \"stone\", \"chinook\", \"passionfruit\", \"bit\", \"dryhopped\", \"triple\", \"fruit\", \"citrus\", \"big\", \"bill\", \"amount\", \"favourite\", \"wheat\", \"series\", \"base\", \"collab\", \"shinko\", \"frontier\", \"shredding\", \"tsukiji\", \"doug\", \"measuring\", \"horned\", \"melding\", \"neck\", \"fwt\", \"wellearned\", \"maximise\", \"remove\", \"wife\", \"wind\", \"individual\", \"burgeoning\", \"tokyo\", \"tab\", \"survive\", \"scheme\", \"successful\", \"laneway\", \"matching\", \"sourcing\", \"prepared\", \"allnatural\", \"peterhead\", \"caliber\", \"time\", \"friend\", \"day\", \"back\", \"love\", \"craft\", \"nt\", \"thing\", \"part\", \"named\", \"life\", \"bar\", \"festival\", \"celebrate\", \"lot\", \"hand\", \"west\", \"brewdog\", \"work\", \"side\", \"uk\", \"put\", \"decided\", \"team\", \"designed\", \"find\", \"home\", \"north\", \"originally\", \"good\", \"original\", \"enjoy\", \"make\", \"collaboration\", \"drink\", \"release\", \"world\", \"special\", \"inspired\", \"recipe\", \"great\", \"long\", \"ch\\u00e2teaus\", \"babe\", \"loganberry\", \"damara\", \"sante\", \"outset\", \"citrusspice\", \"hape\", \"lapin\", \"ky\", \"ratebeercom\", \"lowcountry\", \"unpasteurized\", \"onetwo\", \"individuality\", \"weldwerks\", \"blis\", \"utilizing\", \"crisol\", \"asheville\", \"smith\", \"rhone\", \"packham\", \"granny\", \"bosc\", \"solerastyle\", \"chalky\", \"rick\", \"derwent\", \"university\", \"barrel\", \"aged\", \"oak\", \"bourbon\", \"sour\", \"cider\", \"wine\", \"cherry\", \"apple\", \"tart\", \"raspberry\", \"fermentation\", \"wild\", \"blended\", \"batch\", \"complexity\", \"conditioned\", \"honey\", \"whiskey\", \"saison\", \"french\", \"blueberry\", \"strawberry\", \"whisky\", \"anniversary\", \"pear\", \"culture\", \"farmhouse\", \"age\", \"blackberry\", \"grape\", \"barrelaged\", \"fermented\", \"rye\", \"red\", \"fresh\", \"result\", \"collaboration\", \"exist\", \"suggestion\", \"prized\", \"toe\", \"wash\", \"view\", \"buzz\", \"foamy\", \"cascadian\", \"seesaw\", \"interest\", \"fullness\", \"redolent\", \"northdown\", \"gentle\", \"bracing\", \"finale\", \"garnet\", \"reddishbrown\", \"tweaked\", \"bang\", \"tasmanian\", \"offering\", \"hotel\", \"stormy\", \"overly\", \"perfumed\", \"obust\", \"matched\", \"boris\", \"bitterness\", \"full\", \"balanced\", \"orange\", \"bitter\", \"malty\", \"spice\", \"balance\", \"colour\", \"english\", \"sweetness\", \"nose\", \"deep\", \"head\", \"give\", \"palate\", \"crystal\", \"amber\", \"bodied\", \"medium\", \"intense\", \"alcohol\", \"color\", \"biscuit\", \"combine\", \"earthy\", \"peel\", \"slight\", \"rounded\", \"beautiful\", \"strong\", \"body\", \"bold\", \"touch\", \"subtle\", \"addition\", \"smooth\", \"sweet\", \"red\", \"caramel\", \"complex\", \"fruit\", \"straightforward\", \"pilsener\", \"clash\", \"strawcolored\", \"interesting\", \"australianstyle\", \"au\", \"railway\", \"lock\", \"coldconditioned\", \"removing\", \"bread\", \"maize\", \"preprohibition\", \"dunkelweizen\", \"hefeweizen\", \"widmer\", \"ight\", \"challenger\", \"banoffee\", \"quench\", \"stamp\", \"carrot\", \"compliment\", \"presence\", \"rice\", \"oscar\", \"dressed\", \"tricky\", \"achieve\", \"yeast\", \"light\", \"crisp\", \"refreshing\", \"classic\", \"belgian\", \"clean\", \"traditional\", \"pilsner\", \"summer\", \"lemon\", \"spicy\", \"floral\", \"drinking\", \"easy\", \"strain\", \"banana\", \"delicate\", \"munich\", \"water\", \"white\", \"ginger\", \"mild\", \"blonde\", \"twist\", \"aromatic\", \"lightly\", \"modern\", \"clove\", \"drinkable\", \"perfect\", \"australian\", \"fruity\", \"wheat\", \"taste\", \"golden\", \"profile\", \"fresh\", \"barley\", \"mccallum\", \"cat\", \"catharsis\", \"relish\", \"eads\", \"fucking\", \"ploye\", \"mudgee\", \"mixer\", \"eyewatering\", \"splicelike\", \"fruitifed\", \"till\", \"jubilant\", \"harmoniously\", \"fudgy\", \"expletive\", \"entertain\", \"bravado\", \"backstage\", \"ghanan\", \"lombard\", \"kanpai\", \"metamorphosis\", \"maltrich\", \"engram\", \"joy\", \"baklava\", \"ound\", \"wadebridge\", \"coffee\", \"dark\", \"chocolate\", \"vanilla\", \"rich\", \"black\", \"roasted\", \"porter\", \"bean\", \"coconut\", \"creamy\", \"milk\", \"lactose\", \"toasted\", \"cinnamon\", \"winter\", \"maple\", \"sugar\", \"smoked\", \"nib\", \"roast\", \"cocoa\", \"cold\", \"syrup\", \"infused\", \"warm\", \"layer\", \"gab\", \"peanut\", \"robust\", \"cacao\", \"cream\", \"delicious\", \"sweet\", \"smooth\", \"caramel\", \"complex\", \"added\"], \"Total\": [2757.0, 2056.0, 1948.0, 1943.0, 1911.0, 1896.0, 1831.0, 1538.0, 2037.0, 1452.0, 1333.0, 1242.0, 1227.0, 1211.0, 1116.0, 1048.0, 1057.0, 1028.0, 1007.0, 972.0, 939.0, 932.0, 1262.0, 905.0, 882.0, 876.0, 861.0, 861.0, 1372.0, 949.0, 3.1567232608795166, 3.1567232608795166, 3.1567232608795166, 6.313446521759033, 6.313446521759033, 7.365687847137451, 3.1567232608795166, 6.313446521759033, 3.1567232608795166, 3.1567232608795166, 171.5153045654297, 6.313446521759033, 3.1567232608795166, 38.93292236328125, 357.7619934082031, 3.1567232608795166, 3.1567232608795166, 7.365687847137451, 6.313446521759033, 3.1567232608795166, 3.1567232608795166, 3.1567232608795166, 3.1567232608795166, 3.1567232608795166, 173.61978149414062, 43.141883850097656, 3.1567232608795166, 14.731375694274902, 6.313446521759033, 12.626893043518066, 1896.1385498046875, 1333.189453125, 1227.9654541015625, 1057.5023193359375, 882.8302612304688, 861.7855224609375, 731.3076171875, 665.0164184570312, 580.8370971679688, 524.01611328125, 445.0980224609375, 432.47113037109375, 384.0680236816406, 379.8590393066406, 364.075439453125, 356.7097473144531, 353.5530090332031, 327.2469787597656, 323.03802490234375, 500.968505859375, 319.8813171386719, 383.0468444824219, 263.0602722167969, 260.9557800292969, 248.3289031982422, 242.0154571533203, 238.85873413085938, 238.85873413085938, 227.28408813476562, 2037.508056640625, 1262.06494140625, 875.5970458984375, 282.311279296875, 413.5407409667969, 325.7173156738281, 1372.858642578125, 488.05889892578125, 640.7279052734375, 153.32899475097656, 2.2061727046966553, 9.927777290344238, 2.2061727046966553, 1.1030863523483276, 4.4123454093933105, 3.3092591762542725, 1.1030863523483276, 8.824690818786621, 4.4123454093933105, 1.1030863523483276, 3.3092591762542725, 2.2061727046966553, 11.030863761901855, 7.721604347229004, 13.23703670501709, 18.75246810913086, 5.515431880950928, 6.618518352508545, 2.2061727046966553, 5.515431880950928, 3.3092591762542725, 7.721604347229004, 1.1030863523483276, 3.3092591762542725, 6.618518352508545, 9.927777290344238, 8.824690818786621, 4.4123454093933105, 3.3092591762542725, 798.634521484375, 568.0894775390625, 557.0586547851562, 507.41973876953125, 372.84320068359375, 325.4104919433594, 300.03948974609375, 261.43145751953125, 247.09133911132812, 233.8542938232422, 218.41111755371094, 215.1018524169922, 213.99876403808594, 208.48333740234375, 207.3802490234375, 202.9678955078125, 200.76171875, 185.31851196289062, 183.11233520507812, 180.9061737060547, 179.80308532714844, 175.39073181152344, 169.87530517578125, 166.5660400390625, 162.15370178222656, 158.8444366455078, 155.53517150878906, 154.4320831298828, 146.7104949951172, 485.0020751953125, 223.88697814941406, 381.4503173828125, 673.0911254882812, 1026.53759765625, 434.87249755859375, 442.5035400390625, 544.3768920898438, 427.8062744140625, 541.478515625, 370.1968994140625, 434.95379638671875, 388.083740234375, 1.0828856229782104, 3.248656749725342, 5.414428234100342, 1.0828856229782104, 5.414428234100342, 1.0828856229782104, 1.0828856229782104, 1.0828856229782104, 3.248656749725342, 4.331542491912842, 3.248656749725342, 1.0828856229782104, 14.077512741088867, 1.0828856229782104, 4.331542491912842, 6.497313499450684, 10.828856468200684, 14.077512741088867, 1.0828856229782104, 9.745970726013184, 17.326169967651367, 2.165771245956421, 4.331542491912842, 8.663084983825684, 4.331542491912842, 1.0828856229782104, 5.414428234100342, 3.248656749725342, 8.663084983825684, 12.994626998901367, 2757.02685546875, 2056.399658203125, 1048.2332763671875, 1116.4244384765625, 1007.0836181640625, 689.7981567382812, 619.4105834960938, 595.5870971679688, 557.6860961914062, 541.4428100585938, 517.6193237304688, 449.3975524902344, 421.24249267578125, 361.68377685546875, 350.85491943359375, 337.8603210449219, 327.0314636230469, 550.0914916992188, 290.2133483886719, 269.6385192871094, 266.3898620605469, 254.47811889648438, 232.82041931152344, 223.07443237304688, 223.07443237304688, 213.32846069335938, 213.32846069335938, 212.24557495117188, 197.08517456054688, 196.00230407714844, 283.7362365722656, 257.7272033691406, 949.7100219726562, 779.7387084960938, 1050.0880126953125, 1077.739990234375, 413.5649719238281, 1026.53759765625, 9.802462577819824, 9.802462577819824, 9.802462577819824, 19.60492515563965, 9.802462577819824, 9.802462577819824, 9.802462577819824, 9.802462577819824, 9.802462577819824, 9.802462577819824, 9.802462577819824, 9.802462577819824, 9.802462577819824, 9.802462577819824, 156.8394012451172, 9.802462577819824, 9.802462577819824, 9.802462577819824, 9.802462577819824, 9.802462577819824, 9.802462577819824, 19.60492515563965, 78.4197006225586, 9.802462577819824, 9.802462577819824, 19.60492515563965, 9.802462577819824, 9.802462577819824, 19.60492515563965, 9.802462577819824, 1211.11181640625, 1028.16943359375, 932.3231201171875, 876.77587890625, 686.1724243164062, 646.9625854492188, 641.5167236328125, 555.472900390625, 516.2630615234375, 515.1738891601562, 689.417724609375, 496.65814208984375, 491.2122802734375, 461.804931640625, 823.3465576171875, 604.4735107421875, 413.88177490234375, 408.4359436035156, 391.0093688964844, 327.8379211425781, 297.34136962890625, 278.82562255859375, 259.2206726074219, 236.3482666015625, 234.16995239257812, 234.16995239257812, 230.9024658203125, 225.45664978027344, 225.45664978027344, 218.92166137695312, 637.3629150390625, 846.3345336914062, 306.0350341796875, 430.14532470703125, 661.2738647460938, 628.2620239257812, 1231.460693359375, 1360.675537109375, 1050.0880126953125, 960.023193359375, 793.9796142578125, 2037.508056640625, 10.833067893981934, 10.833067893981934, 5.416533946990967, 5.416533946990967, 45.49888610839844, 5.416533946990967, 21.666135787963867, 5.416533946990967, 5.416533946990967, 10.833067893981934, 5.416533946990967, 179.8289337158203, 35.749122619628906, 10.833067893981934, 10.833067893981934, 113.7472152709961, 5.416533946990967, 45.49888610839844, 71.49824523925781, 10.833067893981934, 32.499202728271484, 5.416533946990967, 10.833067893981934, 110.4972915649414, 71.49824523925781, 125.66358947753906, 5.416533946990967, 5.416533946990967, 5.416533946990967, 31.415897369384766, 1831.871826171875, 1242.5528564453125, 972.8095092773438, 939.22705078125, 825.479736328125, 861.2348022460938, 725.8156127929688, 703.066162109375, 615.3182983398438, 504.8210144042969, 498.3211669921875, 570.8974609375, 446.3223876953125, 366.15771484375, 348.8247985839844, 328.2419738769531, 321.74212646484375, 309.82574462890625, 306.5758056640625, 304.4092102050781, 591.4838256835938, 281.6597900390625, 246.9939422607422, 232.9109649658203, 227.4944305419922, 227.4944305419922, 225.3278350830078, 215.57806396484375, 214.4947509765625, 206.91160583496094, 605.6212158203125, 353.3755798339844, 942.705322265625, 1372.858642578125, 769.0034790039062, 729.5306396484375, 392.9525146484375, 1077.739990234375, 676.5034790039062, 1.0780826807022095, 30.186315536499023, 3.234247922897339, 6.468495845794678, 1.0780826807022095, 2.156165361404419, 1.0780826807022095, 3.234247922897339, 3.234247922897339, 1.0780826807022095, 1.0780826807022095, 1.0780826807022095, 5.390413284301758, 1.0780826807022095, 8.624661445617676, 3.234247922897339, 1.0780826807022095, 3.234247922897339, 1.0780826807022095, 2.156165361404419, 2.156165361404419, 1.0780826807022095, 1.0780826807022095, 4.312330722808838, 1.0780826807022095, 2.156165361404419, 29.108232498168945, 8.624661445617676, 1.0780826807022095, 1.0780826807022095, 1948.095458984375, 1943.783203125, 1911.4405517578125, 1538.424072265625, 1452.177490234375, 905.5894775390625, 805.3278198242188, 762.2044677734375, 588.6331176757812, 537.9632568359375, 526.1043701171875, 503.464599609375, 536.859375, 416.1399230957031, 390.26593017578125, 381.6412658691406, 363.3138732910156, 602.6626586914062, 343.90838623046875, 342.8302917480469, 309.40972900390625, 300.78509521484375, 391.3492431640625, 268.4425964355469, 263.05218505859375, 250.11517333984375, 224.24119567871094, 199.44529724121094, 195.13296508789062, 191.89871215820312, 323.4344177246094, 240.38661193847656, 378.3290710449219, 1360.675537109375, 1231.460693359375, 960.023193359375, 793.9796142578125, 711.139404296875], \"loglift\": [30.0, 29.0, 28.0, 27.0, 26.0, 25.0, 24.0, 23.0, 22.0, 21.0, 20.0, 19.0, 18.0, 17.0, 16.0, 15.0, 14.0, 13.0, 12.0, 11.0, 10.0, 9.0, 8.0, 7.0, 6.0, 5.0, 4.0, 3.0, 2.0, 1.0, 1.791599988937378, 1.791599988937378, 1.791599988937378, 1.791599988937378, 1.791599988937378, 1.791599988937378, 1.791599988937378, 1.791599988937378, 1.791599988937378, 1.791599988937378, 1.791599988937378, 1.791599988937378, 1.791599988937378, 1.791599988937378, 1.791599988937378, 1.791599988937378, 1.791599988937378, 1.791599988937378, 1.791599988937378, 1.791599988937378, 1.791599988937378, 1.791599988937378, 1.791599988937378, 1.791599988937378, 1.791599988937378, 1.791599988937378, 1.791599988937378, 1.791599988937378, 1.791599988937378, 1.791599988937378, 1.791599988937378, 1.791599988937378, 1.791599988937378, 1.791599988937378, 1.791599988937378, 1.791599988937378, 1.791599988937378, 1.791599988937378, 1.791599988937378, 1.791599988937378, 1.791599988937378, 1.791599988937378, 1.791599988937378, 1.791599988937378, 1.791599988937378, 1.791599988937378, 1.791599988937378, 1.791599988937378, 1.791599988937378, 1.7871999740600586, 1.791599988937378, 1.788699984550476, 1.791599988937378, 1.791599988937378, 1.791599988937378, 1.791599988937378, 1.791599988937378, 1.791599988937378, 1.791599988937378, 1.5830999612808228, 1.5855000019073486, 1.5598000288009644, 1.7524000406265259, 1.5923000574111938, 1.676900029182434, 0.9240999817848206, 1.3356000185012817, 1.0770000219345093, 1.726699948310852, 1.726699948310852, 1.726699948310852, 1.726699948310852, 1.726699948310852, 1.726699948310852, 1.726699948310852, 1.726699948310852, 1.726699948310852, 1.726699948310852, 1.726699948310852, 1.726699948310852, 1.726699948310852, 1.726699948310852, 1.726699948310852, 1.726699948310852, 1.726699948310852, 1.726699948310852, 1.726699948310852, 1.726699948310852, 1.726699948310852, 1.726699948310852, 1.726699948310852, 1.726699948310852, 1.726699948310852, 1.726699948310852, 1.726699948310852, 1.726699948310852, 1.726699948310852, 1.726699948310852, 1.726699948310852, 1.726699948310852, 1.726699948310852, 1.726699948310852, 1.726699948310852, 1.726699948310852, 1.726699948310852, 1.726699948310852, 1.726699948310852, 1.726699948310852, 1.726699948310852, 1.726699948310852, 1.726699948310852, 1.726699948310852, 1.726699948310852, 1.726699948310852, 1.726699948310852, 1.726699948310852, 1.726699948310852, 1.726699948310852, 1.726699948310852, 1.726699948310852, 1.726699948310852, 1.726699948310852, 1.726699948310852, 1.726699948310852, 1.726699948310852, 1.726699948310852, 1.726699948310852, 1.711400032043457, 1.7170000076293945, 1.6950000524520874, 1.549299955368042, 1.4348000288009644, 1.4501999616622925, 1.4428000450134277, 1.2355999946594238, 1.291599988937378, 1.1102999448776245, 1.243499994277954, 1.007099986076355, 1.0621000528335571, 1.8087999820709229, 1.8087999820709229, 1.8087999820709229, 1.8087999820709229, 1.8087999820709229, 1.8087999820709229, 1.8087999820709229, 1.8087999820709229, 1.8087999820709229, 1.8087999820709229, 1.8087999820709229, 1.8087999820709229, 1.8087999820709229, 1.8087999820709229, 1.8087999820709229, 1.8087999820709229, 1.8087999820709229, 1.8087999820709229, 1.8087999820709229, 1.8087999820709229, 1.8087999820709229, 1.8087999820709229, 1.8087999820709229, 1.8087999820709229, 1.8087999820709229, 1.8087999820709229, 1.8087999820709229, 1.8087999820709229, 1.8087999820709229, 1.8087999820709229, 1.8087999820709229, 1.8087999820709229, 1.8087999820709229, 1.807800054550171, 1.8087999820709229, 1.8087999820709229, 1.8087999820709229, 1.8087999820709229, 1.8087999820709229, 1.8087999820709229, 1.8087999820709229, 1.8087999820709229, 1.8087999820709229, 1.8087999820709229, 1.8087999820709229, 1.8087999820709229, 1.8087999820709229, 1.802899956703186, 1.8087999820709229, 1.8087999820709229, 1.8087999820709229, 1.8087999820709229, 1.8087999820709229, 1.8087999820709229, 1.8087999820709229, 1.8087999820709229, 1.8087999820709229, 1.8087999820709229, 1.8087999820709229, 1.8087999820709229, 1.804900050163269, 1.8046000003814697, 1.7548999786376953, 1.583799958229065, 1.1444000005722046, 1.0712000131607056, 1.2706999778747559, 0.4350999891757965, 1.7936999797821045, 1.7936999797821045, 1.7936999797821045, 1.7936999797821045, 1.7936999797821045, 1.7936999797821045, 1.7936999797821045, 1.7936999797821045, 1.7936999797821045, 1.7936999797821045, 1.7936999797821045, 1.7936999797821045, 1.7936999797821045, 1.7936999797821045, 1.7936999797821045, 1.7936999797821045, 1.7936999797821045, 1.7936999797821045, 1.7936999797821045, 1.7936999797821045, 1.7936999797821045, 1.7936999797821045, 1.7936999797821045, 1.7936999797821045, 1.7936999797821045, 1.7936999797821045, 1.7936999797821045, 1.7936999797821045, 1.7936999797821045, 1.7936999797821045, 1.792799949645996, 1.7936999797821045, 1.7936999797821045, 1.7936999797821045, 1.7936999797821045, 1.7936999797821045, 1.7936999797821045, 1.7936999797821045, 1.7936999797821045, 1.7936999797821045, 1.7905999422073364, 1.7936999797821045, 1.7936999797821045, 1.7936999797821045, 1.7870999574661255, 1.7900999784469604, 1.7936999797821045, 1.7936999797821045, 1.7936999797821045, 1.7936999797821045, 1.7936999797821045, 1.7936999797821045, 1.7936999797821045, 1.7936999797821045, 1.7936999797821045, 1.7936999797821045, 1.7936999797821045, 1.7936999797821045, 1.7936999797821045, 1.7936999797821045, 1.648300051689148, 1.593400001525879, 1.7425999641418457, 1.632099986076355, 1.4896999597549438, 1.4300999641418457, 1.1765999794006348, 1.0535999536514282, 1.0708999633789062, 1.0921000242233276, 1.0250999927520752, 0.12319999933242798, 1.8115999698638916, 1.8115999698638916, 1.8115999698638916, 1.8115999698638916, 1.8115999698638916, 1.8115999698638916, 1.8115999698638916, 1.8115999698638916, 1.8115999698638916, 1.8115999698638916, 1.8115999698638916, 1.8115999698638916, 1.8115999698638916, 1.8115999698638916, 1.8115999698638916, 1.8115999698638916, 1.8115999698638916, 1.8115999698638916, 1.8115999698638916, 1.8115999698638916, 1.8115999698638916, 1.8115999698638916, 1.8115999698638916, 1.8115999698638916, 1.8115999698638916, 1.8115999698638916, 1.8115999698638916, 1.8115999698638916, 1.8115999698638916, 1.8115999698638916, 1.8115999698638916, 1.8115999698638916, 1.8115999698638916, 1.8115999698638916, 1.8115999698638916, 1.8102999925613403, 1.8115999698638916, 1.8115999698638916, 1.8115999698638916, 1.8115999698638916, 1.8115999698638916, 1.8097000122070312, 1.8115999698638916, 1.8115999698638916, 1.8115999698638916, 1.8115999698638916, 1.8115999698638916, 1.8115999698638916, 1.8115999698638916, 1.8115999698638916, 1.8042000532150269, 1.8115999698638916, 1.8115999698638916, 1.8115999698638916, 1.8115999698638916, 1.8115999698638916, 1.8115999698638916, 1.8115999698638916, 1.8115999698638916, 1.8115999698638916, 1.795300006866455, 1.7767000198364258, 1.5120999813079834, 1.266800045967102, 1.4119000434875488, 1.3322999477386475, 1.5563000440597534, 0.9469000101089478, 1.0785000324249268, 1.8210999965667725, 1.8210999965667725, 1.8210999965667725, 1.8210999965667725, 1.8210999965667725, 1.8210999965667725, 1.8210999965667725, 1.8210999965667725, 1.8210999965667725, 1.8210999965667725, 1.8210999965667725, 1.8210999965667725, 1.8210999965667725, 1.8210999965667725, 1.8210999965667725, 1.8210999965667725, 1.8210999965667725, 1.8210999965667725, 1.8210999965667725, 1.8210999965667725, 1.8210999965667725, 1.8210999965667725, 1.8210999965667725, 1.8210999965667725, 1.8210999965667725, 1.8210999965667725, 1.8210999965667725, 1.8210999965667725, 1.8210999965667725, 1.8210999965667725, 1.8210999965667725, 1.8210999965667725, 1.8210999965667725, 1.8210999965667725, 1.8210999965667725, 1.8210999965667725, 1.8210999965667725, 1.8210999965667725, 1.8210999965667725, 1.8210999965667725, 1.8210999965667725, 1.8210999965667725, 1.819200038909912, 1.8210999965667725, 1.8210999965667725, 1.8210999965667725, 1.8210999965667725, 1.8157000541687012, 1.8210999965667725, 1.8210999965667725, 1.8210999965667725, 1.8210999965667725, 1.8184000253677368, 1.8210999965667725, 1.8210999965667725, 1.8210999965667725, 1.8210999965667725, 1.8210999965667725, 1.8210999965667725, 1.8210999965667725, 1.8143999576568604, 1.8166999816894531, 1.697100043296814, 1.1727999448776245, 1.045699954032898, 1.1363999843597412, 1.198099970817566, 1.1901999711990356], \"logprob\": [30.0, 29.0, 28.0, 27.0, 26.0, 25.0, 24.0, 23.0, 22.0, 21.0, 20.0, 19.0, 18.0, 17.0, 16.0, 15.0, 14.0, 13.0, 12.0, 11.0, 10.0, 9.0, 8.0, 7.0, 6.0, 5.0, 4.0, 3.0, 2.0, 1.0, -9.703300476074219, -9.703300476074219, -9.703300476074219, -9.010100364685059, -9.010100364685059, -8.855999946594238, -9.703300476074219, -9.010100364685059, -9.703300476074219, -9.703300476074219, -5.708099842071533, -9.010100364685059, -9.703300476074219, -7.190999984741211, -4.972899913787842, -9.703300476074219, -9.703300476074219, -8.855999946594238, -9.010100364685059, -9.703300476074219, -9.703300476074219, -9.703300476074219, -9.703300476074219, -9.703300476074219, -5.695899963378906, -7.0883002281188965, -9.703300476074219, -8.162799835205078, -9.010100364685059, -8.317000389099121, -3.3052000999450684, -3.6575000286102295, -3.7397000789642334, -3.8891000747680664, -4.069699764251709, -4.093800067901611, -4.257999897003174, -4.353000164031982, -4.48829984664917, -4.591300010681152, -4.754499912261963, -4.783299922943115, -4.9019999504089355, -4.913000106811523, -4.955399990081787, -4.975900173187256, -4.984799861907959, -5.062099933624268, -5.074999809265137, -4.640699863433838, -5.08489990234375, -4.90749979019165, -5.280399799346924, -5.28849983215332, -5.3379998207092285, -5.363800048828125, -5.3769001960754395, -5.3769001960754395, -5.426599979400635, -3.441800117492676, -3.9184000492095947, -4.309599876403809, -5.248899936676025, -5.027299880981445, -5.18149995803833, -4.49560022354126, -5.118299961090088, -5.104800224304199, -5.8850998878479, -10.126399993896484, -8.622300148010254, -10.126399993896484, -10.819499969482422, -9.433199882507324, -9.72089958190918, -10.819499969482422, -8.740099906921387, -9.433199882507324, -10.819499969482422, -9.72089958190918, -10.126399993896484, -8.517000198364258, -8.873600006103516, -8.334600448608398, -7.986299991607666, -9.210100173950195, -9.027799606323242, -10.126399993896484, -9.210100173950195, -9.72089958190918, -8.873600006103516, -10.819499969482422, -9.72089958190918, -9.027799606323242, -8.622300148010254, -8.740099906921387, -9.433199882507324, -9.72089958190918, -4.2347002029418945, -4.575399875640869, -4.59499979019165, -4.688300132751465, -4.996500015258789, -5.132599830627441, -5.213699817657471, -5.351500034332275, -5.407899856567383, -5.4629998207092285, -5.531300067901611, -5.546500205993652, -5.551700115203857, -5.5777997970581055, -5.583099842071533, -5.604599952697754, -5.615499973297119, -5.6956000328063965, -5.707600116729736, -5.719699859619141, -5.725800037384033, -5.7505998611450195, -5.782599925994873, -5.802299976348877, -5.829100131988525, -5.849699974060059, -5.870800018310547, -5.877900123596191, -5.929200172424316, -4.748799800872803, -5.516200065612793, -5.00540018081665, -4.583199977874756, -4.275599956512451, -5.119100093841553, -5.109099864959717, -5.109099864959717, -5.294099807739258, -5.239799976348877, -5.486800193786621, -5.561999797821045, -5.620999813079834, -10.755999565124512, -9.657400131225586, -9.146499633789062, -10.755999565124512, -9.146499633789062, -10.755999565124512, -10.755999565124512, -10.755999565124512, -9.657400131225586, -9.36970043182373, -9.657400131225586, -10.755999565124512, -8.190999984741211, -10.755999565124512, -9.36970043182373, -8.964200019836426, -8.453399658203125, -8.190999984741211, -10.755999565124512, -8.558799743652344, -7.983399868011475, -10.062800407409668, -9.36970043182373, -8.67650032043457, -9.36970043182373, -10.755999565124512, -9.146499633789062, -9.657400131225586, -8.67650032043457, -8.271100044250488, -2.9137001037597656, -3.206899881362915, -3.8808000087738037, -3.818700075149536, -3.920799970626831, -4.299200057983398, -4.406799793243408, -4.446100234985352, -4.5117998123168945, -4.541399955749512, -4.586400032043457, -4.727700233459473, -4.792399883270264, -4.944799900054932, -4.975200176239014, -5.013000011444092, -5.045599937438965, -4.531400203704834, -5.164999961853027, -5.238500118255615, -5.250699996948242, -5.29640007019043, -5.385300159454346, -5.428100109100342, -5.428100109100342, -5.472799777984619, -5.472799777984619, -5.47790002822876, -5.552000045776367, -5.557499885559082, -5.191500186920166, -5.287899971008301, -4.033400058746338, -4.401599884033203, -4.543399810791016, -4.59060001373291, -5.348800182342529, -5.275300025939941, -8.568099975585938, -8.568099975585938, -8.568099975585938, -7.874899864196777, -8.568099975585938, -8.568099975585938, -8.568099975585938, -8.568099975585938, -8.568099975585938, -8.568099975585938, -8.568099975585938, -8.568099975585938, -8.568099975585938, -8.568099975585938, -5.795499801635742, -8.568099975585938, -8.568099975585938, -8.568099975585938, -8.568099975585938, -8.568099975585938, -8.568099975585938, -7.874899864196777, -6.48859977722168, -8.568099975585938, -8.568099975585938, -7.874899864196777, -8.568099975585938, -8.568099975585938, -7.874899864196777, -8.568099975585938, -3.7523000240325928, -3.9151999950408936, -4.013000011444092, -4.074399948120117, -4.3196001052856445, -4.378399848937988, -4.386899948120117, -4.530900001525879, -4.604100227355957, -4.606200218200684, -4.317999839782715, -4.6427998542785645, -4.653800010681152, -4.7154998779296875, -4.143899917602539, -4.449900150299072, -4.825099945068359, -4.838399887084961, -4.881999969482422, -5.058199882507324, -5.155799865722656, -5.220099925994873, -5.293000221252441, -5.38539981842041, -5.394599914550781, -5.394599914550781, -5.408699989318848, -5.432600021362305, -5.432600021362305, -5.461999893188477, -4.538700103759766, -4.310100078582764, -5.177999973297119, -4.948200225830078, -4.6605000495910645, -4.771299839019775, -4.351799964904785, -4.375, -4.616799831390381, -4.685299873352051, -4.942200183868408, -4.901599884033203, -8.450200080871582, -8.450200080871582, -9.14330005645752, -9.14330005645752, -7.015100002288818, -9.14330005645752, -7.756999969482422, -9.14330005645752, -9.14330005645752, -8.450200080871582, -9.14330005645752, -5.6407999992370605, -7.25629997253418, -8.450200080871582, -8.450200080871582, -6.098800182342529, -9.14330005645752, -7.015100002288818, -6.5630998611450195, -8.450200080871582, -7.351600170135498, -9.14330005645752, -8.450200080871582, -6.127799987792969, -6.5630998611450195, -5.999199867248535, -9.14330005645752, -9.14330005645752, -9.14330005645752, -7.385499954223633, -3.319700002670288, -3.707900047302246, -3.9526000022888184, -3.9876999855041504, -4.116799831390381, -4.075699806213379, -4.245500087738037, -4.277299880981445, -4.410600185394287, -4.60860013961792, -4.621500015258789, -4.487500190734863, -4.7316999435424805, -4.929699897766113, -4.9781999588012695, -5.039000034332275, -5.059000015258789, -5.096799850463867, -5.1072998046875, -5.1143999099731445, -4.457499980926514, -5.1921000480651855, -5.323400020599365, -5.3821001052856445, -5.405700206756592, -5.405700206756592, -5.415200233459473, -5.459499835968018, -5.4644999504089355, -5.500500202178955, -4.442800045013428, -5.000199794769287, -4.2835001945495605, -4.152900218963623, -4.587299823760986, -4.719699859619141, -5.1143999099731445, -4.714900016784668, -5.048999786376953, -10.748100280761719, -7.415900230407715, -9.649499893188477, -8.956299781799316, -10.748100280761719, -10.054900169372559, -10.748100280761719, -9.649499893188477, -9.649499893188477, -10.748100280761719, -10.748100280761719, -10.748100280761719, -9.13860034942627, -10.748100280761719, -8.668600082397461, -9.649499893188477, -10.748100280761719, -9.649499893188477, -10.748100280761719, -10.054900169372559, -10.054900169372559, -10.748100280761719, -10.748100280761719, -9.361800193786621, -10.748100280761719, -10.054900169372559, -7.452199935913086, -8.668600082397461, -10.748100280761719, -10.748100280761719, -3.2486000061035156, -3.2509000301361084, -3.2676000595092773, -3.4846999645233154, -3.5423998832702637, -4.014699935913086, -4.131999969482422, -4.186999797821045, -4.445400238037109, -4.5355000495910645, -4.557799816131592, -4.6016998291015625, -4.5395002365112305, -4.792200088500977, -4.856400012969971, -4.878799915313721, -4.927999973297119, -4.427299976348877, -4.982900142669678, -4.986000061035156, -5.088600158691406, -5.1168999671936035, -4.856400012969971, -5.230599880218506, -5.250899791717529, -5.301300048828125, -5.4105000495910645, -5.527699947357178, -5.549600124359131, -5.566299915313721, -5.051000118255615, -5.345399856567383, -5.011499881744385, -4.255799770355225, -4.482800006866455, -4.640999794006348, -4.769199848175049, -4.88730001449585]}, \"token.table\": {\"Topic\": [1, 5, 1, 3, 6, 1, 4, 3, 3, 1, 4, 2, 1, 1, 4, 1, 3, 1, 3, 3, 5, 3, 5, 2, 5, 5, 3, 2, 6, 6, 4, 4, 5, 4, 5, 2, 4, 5, 6, 3, 3, 5, 1, 3, 4, 6, 3, 6, 4, 4, 5, 1, 6, 1, 5, 4, 1, 4, 1, 4, 6, 3, 3, 3, 5, 3, 4, 1, 4, 2, 4, 5, 6, 4, 3, 1, 3, 4, 6, 5, 2, 1, 2, 4, 3, 6, 2, 4, 6, 5, 1, 1, 4, 6, 6, 2, 3, 5, 3, 1, 6, 3, 3, 6, 1, 1, 1, 5, 3, 5, 5, 5, 5, 6, 6, 6, 5, 6, 5, 2, 2, 3, 4, 4, 4, 4, 6, 3, 5, 3, 2, 1, 6, 6, 3, 5, 4, 3, 3, 6, 2, 1, 2, 4, 5, 2, 6, 1, 3, 2, 1, 2, 5, 1, 2, 5, 5, 5, 1, 1, 5, 6, 4, 5, 4, 6, 2, 5, 6, 4, 6, 1, 6, 1, 3, 1, 2, 1, 3, 3, 5, 2, 4, 2, 5, 4, 1, 3, 1, 3, 5, 2, 2, 1, 4, 6, 4, 5, 6, 6, 4, 4, 2, 6, 1, 4, 4, 6, 5, 1, 4, 5, 1, 5, 1, 2, 3, 2, 3, 1, 2, 5, 2, 3, 6, 1, 4, 5, 2, 3, 6, 1, 2, 4, 1, 5, 2, 3, 1, 6, 2, 5, 4, 4, 5, 6, 1, 6, 1, 1, 6, 3, 1, 6, 2, 3, 6, 5, 2, 5, 5, 1, 5, 3, 6, 2, 4, 2, 2, 3, 5, 2, 5, 6, 4, 1, 2, 6, 1, 4, 2, 2, 6, 2, 4, 2, 6, 5, 6, 1, 6, 5, 1, 1, 6, 5, 1, 2, 2, 1, 6, 2, 4, 4, 2, 3, 1, 4, 4, 3, 4, 2, 5, 2, 5, 1, 6, 3, 4, 3, 4, 5, 2, 1, 1, 5, 6, 3, 4, 4, 5, 4, 2, 5, 5, 1, 1, 6, 6, 2, 5, 5, 4, 1, 5, 6, 1, 1, 2, 5, 5, 3, 3, 2, 3, 3, 4, 4, 4, 5, 2, 3, 6, 2, 5, 2, 3, 3, 5, 6, 3, 6, 6, 6, 1, 4, 3, 5, 3, 3, 2, 4, 1, 2, 1, 2, 1, 2, 2, 1, 4, 3, 6, 4, 6, 1, 3, 1, 3, 2, 2, 6, 4, 5, 6, 6, 5, 1, 4, 5, 5, 3, 5, 4, 6, 4, 5, 2, 3, 6, 4, 5, 1, 2, 1, 4, 6, 4, 6, 6, 2, 3, 4, 5, 6, 2, 2, 6, 2, 6, 4, 2, 1, 4, 5, 5, 1, 1, 2, 4, 5, 2, 3, 3, 3, 6, 4, 6, 6, 4, 5, 1, 3, 2, 2, 1, 5, 3, 3, 3, 5, 5, 2, 3, 2, 3, 6, 2, 2, 5, 1, 5], \"Freq\": [0.9503525495529175, 0.9867615699768066, 0.1954609751701355, 0.27280163764953613, 0.5315413475036621, 0.3056049644947052, 0.695569634437561, 0.9995678067207336, 0.9998056292533875, 0.9503525495529175, 1.0006253719329834, 1.0198657512664795, 0.9503524899482727, 0.9998229146003723, 0.9989326596260071, 0.8197499513626099, 0.18136060237884521, 0.9503525495529175, 0.9996663331985474, 1.0005629062652588, 0.9978266358375549, 1.0260651111602783, 1.0154094696044922, 0.033958204090595245, 0.9649789333343506, 0.9230995178222656, 0.9234585762023926, 0.9991728067398071, 0.9275726675987244, 1.0435192584991455, 0.9991486668586731, 0.9996533989906311, 1.00080144405365, 1.0201518535614014, 1.0154094696044922, 0.9995265007019043, 0.4774550497531891, 0.4804114103317261, 0.04138929024338722, 0.9999902844429016, 0.9971783757209778, 0.003880071686580777, 0.49006763100624084, 0.17167973518371582, 0.0015607249224558473, 0.3371165692806244, 1.0004135370254517, 1.0006232261657715, 1.0003578662872314, 0.0011611235095188022, 0.9985662698745728, 0.7926020622253418, 0.20671609044075012, 0.9599332809448242, 0.038964081555604935, 0.9985264539718628, 1.0005913972854614, 0.999748706817627, 0.0008256876026280224, 0.9990819692611694, 1.0004533529281616, 0.9999882578849792, 1.0008742809295654, 1.015804409980774, 1.0003823041915894, 0.9981212019920349, 0.9999760389328003, 0.18196114897727966, 0.8188251256942749, 0.019605599343776703, 0.9508715271949768, 0.006535199470818043, 0.02614079788327217, 1.0201518535614014, 0.9234585762023926, 0.0008957167156040668, 0.998724102973938, 1.0201518535614014, 0.9275726675987244, 1.0009512901306152, 0.9982813000679016, 0.9503525495529175, 1.0878567695617676, 1.0201518535614014, 0.006183633580803871, 0.9924732446670532, 0.9065473079681396, 0.49582135677337646, 0.5041545033454895, 1.0154094696044922, 1.0295486450195312, 0.999245285987854, 1.0201518535614014, 0.9938278198242188, 0.9275726675987244, 0.9976816773414612, 0.9234585165977478, 0.99303138256073, 1.0006933212280273, 0.998675525188446, 0.9997695088386536, 0.9234585762023926, 1.0002926588058472, 0.9993185997009277, 0.9503525495529175, 1.000028133392334, 0.8137457370758057, 0.1862027794122696, 0.9234585762023926, 0.9230995178222656, 0.9994188547134399, 1.0002540349960327, 0.9976934194564819, 1.0007144212722778, 1.0000683069229126, 0.9999510049819946, 0.0025552622973918915, 0.9965523481369019, 1.0154094696044922, 0.9978542923927307, 0.7471718788146973, 0.25327858328819275, 0.9991487264633179, 0.9994904398918152, 0.9992742538452148, 0.46348798274993896, 0.5365377068519592, 1.000413417816162, 0.9954994916915894, 0.9999037981033325, 0.9987385272979736, 0.004159965552389622, 0.9942317605018616, 0.9998016357421875, 0.9234585762023926, 1.000195860862732, 1.0002856254577637, 0.9984602928161621, 0.9234585762023926, 1.0001115798950195, 0.9998946785926819, 0.9503525495529175, 1.0007340908050537, 0.9995678663253784, 1.0005624294281006, 0.11630086600780487, 0.8828293085098267, 0.9503525495529175, 1.0388908386230469, 0.999052107334137, 0.9995793700218201, 0.9065473675727844, 0.9230995178222656, 0.002299524610862136, 0.7588431239128113, 0.23915055394172668, 1.00042724609375, 0.999569296836853, 0.9999269247055054, 1.0005913972854614, 1.0154094696044922, 0.9275726675987244, 0.9992742538452148, 1.0005022287368774, 0.999662458896637, 0.9275726675987244, 0.9699821472167969, 0.03145888075232506, 0.9275726675987244, 1.0201518535614014, 0.9275726675987244, 1.000665307044983, 0.9275726675987244, 0.9503525495529175, 0.9988429546356201, 0.8903425931930542, 0.10745514184236526, 1.0021899938583374, 0.9991153478622437, 0.9476577043533325, 0.05264765024185181, 1.0000057220458984, 1.0201518535614014, 1.0009793043136597, 0.999277651309967, 1.0201518535614014, 0.9503525495529175, 0.9985365271568298, 0.10020969808101654, 0.4778518080711365, 0.42125189304351807, 0.9998424649238586, 1.007274866104126, 0.8117759227752686, 0.1879747211933136, 0.9275726675987244, 0.2588295638561249, 0.7414830327033997, 0.9275726675987244, 0.9275726675987244, 0.999835193157196, 1.0201518535614014, 0.9065473675727844, 0.9977673292160034, 0.9989106059074402, 1.0201518535614014, 1.0010240077972412, 0.9275726675987244, 1.0012078285217285, 0.0012145553482696414, 0.9935063123703003, 0.004858221393078566, 0.3810669183731079, 0.6195764541625977, 0.014432927593588829, 0.985562801361084, 1.0388908386230469, 0.0035244000609964132, 0.9974052309989929, 0.9997928142547607, 0.4874081015586853, 0.5126981139183044, 1.0001581907272339, 0.9234585762023926, 1.0435192584991455, 1.0012643337249756, 1.0004223585128784, 1.0022222995758057, 1.002988576889038, 0.9943800568580627, 0.005453638266772032, 0.9998579025268555, 0.9065473675727844, 1.0201518535614014, 0.996711254119873, 0.9890351891517639, 1.0131999254226685, 0.9234585762023926, 0.9503525495529175, 0.9998016357421875, 0.5392642617225647, 0.45985203981399536, 0.9988519549369812, 1.0201518535614014, 0.9890351891517639, 0.9962817430496216, 0.9503525495529175, 0.9275726675987244, 1.0003710985183716, 0.999975323677063, 0.9275726675987244, 0.9234585762023926, 0.0018626851961016655, 0.9983992576599121, 0.9065473675727844, 0.9234585762023926, 0.9989243745803833, 0.9993554949760437, 0.9981176853179932, 1.0003598928451538, 0.9985450506210327, 0.9998822808265686, 0.9230995178222656, 0.9234585165977478, 0.9275726675987244, 0.5153526663780212, 0.48443153500556946, 0.9981664419174194, 1.0004205703735352, 0.9234585762023926, 1.007017731666565, 0.8379251956939697, 0.16193944215774536, 0.9275726675987244, 1.0000578165054321, 0.9960706233978271, 0.003992266952991486, 0.9991360902786255, 0.9503525495529175, 1.0201518535614014, 0.9065473079681396, 0.9065473675727844, 0.9275726675987244, 0.9065473079681396, 1.000494360923767, 1.0198657512664795, 0.9275726675987244, 1.0000245571136475, 0.9990772008895874, 0.9503524899482727, 0.9275726675987244, 1.0019571781158447, 1.0001922845840454, 0.9503525495529175, 0.9275726675987244, 1.001383662223816, 0.9503525495529175, 1.000623106956482, 0.9065473675727844, 0.9997708797454834, 1.0004950761795044, 0.9972020983695984, 1.0201518535614014, 1.0006883144378662, 0.9998683929443359, 0.9997774362564087, 1.000248908996582, 1.0201518535614014, 0.9946480393409729, 0.9234585762023926, 1.0002555847167969, 0.9915717244148254, 0.00893307849764824, 1.001973271369934, 0.9230995178222656, 0.9503525495529175, 0.9275726675987244, 0.9234585762023926, 1.0201518535614014, 0.9234585762023926, 0.9959079623222351, 0.003308664308860898, 0.999630331993103, 0.9999361038208008, 0.9972670674324036, 0.002610646653920412, 0.9993185997009277, 0.9984602928161621, 1.0004223585128784, 0.01651197113096714, 0.9841134548187256, 1.0201518535614014, 0.9065473675727844, 1.0154094696044922, 0.9994826912879944, 1.0008137226104736, 0.9997797608375549, 0.9275726675987244, 0.999731719493866, 1.007274866104126, 1.0154094696044922, 0.99303138256073, 1.0201518535614014, 0.20867660641670227, 0.7736303806304932, 0.015269020572304726, 0.9503525495529175, 1.0182348489761353, 0.997772216796875, 0.9846395254135132, 0.9230995178222656, 1.0007354021072388, 0.9234585762023926, 0.6158884763717651, 0.38357967138290405, 0.5142425894737244, 0.48567357659339905, 1.0201518535614014, 1.0201518535614014, 0.999758243560791, 0.7525363564491272, 0.24632571637630463, 0.9275726675987244, 0.9972020387649536, 0.9230995178222656, 0.4158959686756134, 0.582737922668457, 0.9234585762023926, 1.002677083015442, 0.9998777508735657, 0.9234585762023926, 0.9986757636070251, 0.9995929598808289, 1.0005278587341309, 0.9503525495529175, 0.9979745745658875, 0.7989856004714966, 0.20134949684143066, 1.001340627670288, 0.9234585165977478, 0.9065473079681396, 1.0201518535614014, 0.6331202983856201, 0.3667590022087097, 0.9503525495529175, 0.9065473675727844, 1.0028259754180908, 0.9065473675727844, 1.0005186796188354, 0.9999692440032959, 0.9979745745658875, 0.9811747074127197, 1.000266432762146, 0.5391970872879028, 0.4604288339614868, 1.000280499458313, 0.9234585762023926, 0.9503525495529175, 0.9999169707298279, 1.0576385259628296, 0.6474893093109131, 0.35296350717544556, 1.0007532835006714, 0.9984279870986938, 0.0017516280058771372, 0.9275726675987244, 0.9230995178222656, 1.0001693964004517, 1.0201518535614014, 1.0154094696044922, 0.999262809753418, 1.0007712841033936, 0.9230995178222656, 0.8644996285438538, 0.13493096828460693, 0.7379695773124695, 0.2616162598133087, 1.0360541343688965, 0.004977909382432699, 0.9939225316047668, 1.0201518535614014, 1.000354528427124, 1.000370979309082, 1.0878567695617676, 0.9503525495529175, 0.4769689738750458, 0.5232694745063782, 0.9964931011199951, 0.002900998806580901, 0.9983512163162231, 0.9065473675727844, 0.9991821646690369, 1.0201518535614014, 0.6709982752799988, 0.3289972245693207, 1.0026053190231323, 0.9983496069908142, 0.9275726675987244, 1.0004576444625854, 0.999663770198822, 1.0201518535614014, 1.0576385259628296, 0.14878691732883453, 0.850875198841095, 0.9999058842658997, 0.9230995178222656, 0.9987500905990601, 1.0004706382751465, 0.9065473675727844, 1.0201518535614014, 0.9978266358375549, 1.001095175743103, 1.0004135370254517, 0.994493842124939, 0.994493842124939, 0.9997243285179138, 1.0201518535614014, 0.9275726675987244, 0.9995394945144653, 1.0201518535614014, 0.9986557364463806, 1.0017229318618774, 0.9234585762023926, 0.9065473079681396, 1.0011868476867676, 0.42029091715812683, 0.5798120498657227, 0.9992648363113403, 0.9996663331985474, 0.00676265312358737, 0.9924193620681763, 0.9230995178222656, 1.0360541343688965, 0.9994243383407593, 0.9820929169654846, 0.9993371367454529, 1.000939965248108, 0.9993865489959717, 0.6117085218429565, 0.3875991106033325, 0.9503525495529175, 1.0000699758529663], \"Term\": [\"accentuating\", \"achieve\", \"added\", \"added\", \"added\", \"addition\", \"addition\", \"age\", \"aged\", \"alba\", \"alcohol\", \"allnatural\", \"alter\", \"amarillo\", \"amber\", \"amount\", \"amount\", \"anglesey\", \"anniversary\", \"apple\", \"aromatic\", \"asheville\", \"au\", \"australian\", \"australian\", \"australianstyle\", \"babe\", \"back\", \"backstage\", \"baklava\", \"balance\", \"balanced\", \"banana\", \"bang\", \"banoffee\", \"bar\", \"barley\", \"barley\", \"barley\", \"barrel\", \"barrelaged\", \"barrelaged\", \"base\", \"base\", \"base\", \"base\", \"batch\", \"bean\", \"beautiful\", \"belgian\", \"belgian\", \"big\", \"big\", \"bill\", \"bill\", \"biscuit\", \"bit\", \"bitter\", \"bitterness\", \"bitterness\", \"black\", \"blackberry\", \"blended\", \"blis\", \"blonde\", \"blueberry\", \"bodied\", \"body\", \"body\", \"bold\", \"bold\", \"bold\", \"bold\", \"boris\", \"bosc\", \"bourbon\", \"bourbon\", \"bracing\", \"bravado\", \"bread\", \"brewdog\", \"bucketloads\", \"burgeoning\", \"buzz\", \"cacao\", \"cacao\", \"caliber\", \"caramel\", \"caramel\", \"carrot\", \"carrying\", \"cascade\", \"cascadian\", \"cat\", \"catharsis\", \"celebrate\", \"chalky\", \"challenger\", \"cherry\", \"chinook\", \"chocolate\", \"ch\\u00e2teaus\", \"cider\", \"cinnamon\", \"circadian\", \"citra\", \"citrus\", \"citrus\", \"citrusspice\", \"clash\", \"classic\", \"clean\", \"clove\", \"cocoa\", \"coconut\", \"coffee\", \"cold\", \"cold\", \"coldconditioned\", \"collab\", \"collaboration\", \"collaboration\", \"color\", \"colour\", \"combine\", \"complex\", \"complex\", \"complexity\", \"compliment\", \"conditioned\", \"craft\", \"cream\", \"cream\", \"creamy\", \"crisol\", \"crisp\", \"crystal\", \"culture\", \"damara\", \"dark\", \"day\", \"deception\", \"decided\", \"deep\", \"delicate\", \"delicious\", \"delicious\", \"dependable\", \"derwent\", \"designed\", \"double\", \"doug\", \"dressed\", \"drink\", \"drink\", \"drink\", \"drinkable\", \"drinking\", \"dry\", \"dryhopped\", \"dunkelweizen\", \"eads\", \"earthy\", \"easy\", \"english\", \"engram\", \"enjoy\", \"enjoy\", \"entertain\", \"exist\", \"expletive\", \"extra\", \"eyewatering\", \"faithful\", \"farmhouse\", \"favourite\", \"favourite\", \"featuring\", \"fermentation\", \"fermented\", \"fermented\", \"festival\", \"finale\", \"find\", \"floral\", \"foamy\", \"fourway\", \"french\", \"fresh\", \"fresh\", \"fresh\", \"friend\", \"frontier\", \"fruit\", \"fruit\", \"fruitifed\", \"fruity\", \"fruity\", \"fucking\", \"fudgy\", \"full\", \"fullness\", \"fwt\", \"gab\", \"galaxy\", \"garnet\", \"gentle\", \"ghanan\", \"ginger\", \"give\", \"give\", \"give\", \"golden\", \"golden\", \"good\", \"good\", \"granny\", \"grape\", \"grape\", \"grapefruit\", \"great\", \"great\", \"hand\", \"hape\", \"harmoniously\", \"hazy\", \"head\", \"hefeweizen\", \"home\", \"honey\", \"honey\", \"hopped\", \"horned\", \"hotel\", \"huell\", \"ight\", \"individual\", \"individuality\", \"induced\", \"infused\", \"inspired\", \"inspired\", \"intense\", \"interest\", \"interesting\", \"joy\", \"jr\", \"jubilant\", \"juice\", \"juicy\", \"kanpai\", \"ky\", \"lactose\", \"lactose\", \"laneway\", \"lapin\", \"layer\", \"lemon\", \"life\", \"light\", \"lightly\", \"lime\", \"lock\", \"loganberry\", \"lombard\", \"long\", \"long\", \"lot\", \"love\", \"lowcountry\", \"maize\", \"make\", \"make\", \"maltrich\", \"malty\", \"mango\", \"mango\", \"maple\", \"martian\", \"matched\", \"matching\", \"maximise\", \"mccallum\", \"measuring\", \"medium\", \"melding\", \"metamorphosis\", \"mild\", \"milk\", \"mimosa\", \"mixer\", \"modern\", \"mosaic\", \"moteuka\", \"mudgee\", \"munich\", \"nada\", \"named\", \"neck\", \"nelson\", \"nib\", \"north\", \"northdown\", \"nose\", \"nt\", \"oak\", \"oat\", \"obust\", \"offering\", \"onetwo\", \"orange\", \"original\", \"original\", \"originally\", \"oscar\", \"ose\", \"ound\", \"outset\", \"overly\", \"packham\", \"palate\", \"palate\", \"part\", \"passionfruit\", \"peach\", \"peach\", \"peanut\", \"pear\", \"peel\", \"perfect\", \"perfect\", \"perfumed\", \"peterhead\", \"pilsener\", \"pilsner\", \"pine\", \"pineapple\", \"ploye\", \"porter\", \"prepared\", \"preprohibition\", \"presence\", \"prized\", \"profile\", \"profile\", \"profile\", \"promote\", \"protein\", \"put\", \"quench\", \"railway\", \"raspberry\", \"ratebeercom\", \"recipe\", \"recipe\", \"red\", \"red\", \"reddishbrown\", \"redolent\", \"refreshing\", \"release\", \"release\", \"relish\", \"remove\", \"removing\", \"result\", \"result\", \"rhone\", \"rice\", \"rich\", \"rick\", \"roast\", \"roasted\", \"robust\", \"rostrevor\", \"rounded\", \"rye\", \"rye\", \"saison\", \"sante\", \"scheme\", \"seesaw\", \"series\", \"series\", \"sessioning\", \"shinko\", \"showcase\", \"shredding\", \"side\", \"simcoe\", \"slight\", \"smith\", \"smoked\", \"smooth\", \"smooth\", \"soft\", \"solerastyle\", \"sorbetto\", \"sour\", \"sourcing\", \"special\", \"special\", \"spice\", \"spicy\", \"spicy\", \"splicelike\", \"stamp\", \"stone\", \"stormy\", \"straightforward\", \"strain\", \"strawberry\", \"strawcolored\", \"strong\", \"strong\", \"subtle\", \"subtle\", \"successful\", \"sugar\", \"sugar\", \"suggestion\", \"summer\", \"super\", \"survive\", \"swag\", \"sweet\", \"sweet\", \"sweetness\", \"sweetness\", \"syrup\", \"tab\", \"tart\", \"tasmanian\", \"taste\", \"taste\", \"team\", \"thing\", \"till\", \"time\", \"toasted\", \"toe\", \"tokyo\", \"touch\", \"touch\", \"traditional\", \"tricky\", \"triple\", \"tropical\", \"tsukiji\", \"tweaked\", \"twist\", \"uk\", \"university\", \"unpasteurized\", \"utilizing\", \"vanilla\", \"view\", \"wadebridge\", \"warm\", \"wash\", \"water\", \"watermelon\", \"weldwerks\", \"wellearned\", \"west\", \"wheat\", \"wheat\", \"whiskey\", \"whisky\", \"white\", \"white\", \"widmer\", \"wife\", \"wild\", \"wind\", \"wine\", \"winter\", \"work\", \"world\", \"world\", \"ximenez\", \"yeast\"]}, \"R\": 30, \"lambda.step\": 0.01, \"plot.opts\": {\"xlab\": \"PC1\", \"ylab\": \"PC2\"}, \"topic.order\": [1, 2, 3, 4, 5, 6]};\n",
       "\n",
       "function LDAvis_load_lib(url, callback){\n",
       "  var s = document.createElement('script');\n",
       "  s.src = url;\n",
       "  s.async = true;\n",
       "  s.onreadystatechange = s.onload = callback;\n",
       "  s.onerror = function(){console.warn(\"failed to load library \" + url);};\n",
       "  document.getElementsByTagName(\"head\")[0].appendChild(s);\n",
       "}\n",
       "\n",
       "if(typeof(LDAvis) !== \"undefined\"){\n",
       "   // already loaded: just create the visualization\n",
       "   !function(LDAvis){\n",
       "       new LDAvis(\"#\" + \"ldavis_el1599617650212903125783179266\", ldavis_el1599617650212903125783179266_data);\n",
       "   }(LDAvis);\n",
       "}else if(typeof define === \"function\" && define.amd){\n",
       "   // require.js is available: use it to load d3/LDAvis\n",
       "   require.config({paths: {d3: \"https://cdnjs.cloudflare.com/ajax/libs/d3/3.5.5/d3.min\"}});\n",
       "   require([\"d3\"], function(d3){\n",
       "      window.d3 = d3;\n",
       "      LDAvis_load_lib(\"https://cdn.rawgit.com/bmabey/pyLDAvis/files/ldavis.v1.0.0.js\", function(){\n",
       "        new LDAvis(\"#\" + \"ldavis_el1599617650212903125783179266\", ldavis_el1599617650212903125783179266_data);\n",
       "      });\n",
       "    });\n",
       "}else{\n",
       "    // require.js not available: dynamically load d3 & LDAvis\n",
       "    LDAvis_load_lib(\"https://cdnjs.cloudflare.com/ajax/libs/d3/3.5.5/d3.min.js\", function(){\n",
       "         LDAvis_load_lib(\"https://cdn.rawgit.com/bmabey/pyLDAvis/files/ldavis.v1.0.0.js\", function(){\n",
       "                 new LDAvis(\"#\" + \"ldavis_el1599617650212903125783179266\", ldavis_el1599617650212903125783179266_data);\n",
       "            })\n",
       "         });\n",
       "}\n",
       "</script>"
      ],
      "text/plain": [
       "PreparedData(topic_coordinates=              x         y  topics  cluster       Freq\n",
       "topic                                                \n",
       "0      0.142208  0.262235       1        1  16.669699\n",
       "1     -0.307803  0.010054       2        1  17.786531\n",
       "2     -0.239628 -0.122308       3        1  16.385662\n",
       "3      0.191612 -0.127440       4        1  16.634521\n",
       "4      0.037074  0.251729       5        1  16.339272\n",
       "5      0.176538 -0.274270       6        1  16.184320, topic_info=    Category         Freq       Term        Total  loglift  logprob\n",
       "288  Default  2757.000000     barrel  2757.000000  30.0000  30.0000\n",
       "287  Default  2056.000000       aged  2056.000000  29.0000  29.0000\n",
       "303  Default  1948.000000     coffee  1948.000000  28.0000  28.0000\n",
       "5    Default  1943.000000       dark  1943.000000  27.0000  27.0000\n",
       "26   Default  1911.000000  chocolate  1911.000000  26.0000  26.0000\n",
       "..       ...          ...        ...          ...      ...      ...\n",
       "50    Topic6   711.534607      sweet  1360.675537   1.1728  -4.2558\n",
       "48    Topic6   567.071533     smooth  1231.460693   1.0457  -4.4828\n",
       "342   Topic6   484.059143    caramel   960.023193   1.1364  -4.6410\n",
       "593   Topic6   425.842651    complex   793.979614   1.1981  -4.7692\n",
       "133   Topic6   378.407043      added   711.139404   1.1902  -4.8873\n",
       "\n",
       "[447 rows x 6 columns], token_table=       Topic      Freq          Term\n",
       "term                                \n",
       "6991       1  0.950353  accentuating\n",
       "1570       5  0.986762       achieve\n",
       "133        1  0.195461         added\n",
       "133        3  0.272802         added\n",
       "133        6  0.531541         added\n",
       "...      ...       ...           ...\n",
       "1929       2  0.999387          work\n",
       "403        2  0.611709         world\n",
       "403        5  0.387599         world\n",
       "12210      1  0.950353       ximenez\n",
       "223        5  1.000070         yeast\n",
       "\n",
       "[482 rows x 3 columns], R=30, lambda_step=0.01, plot_opts={'xlab': 'PC1', 'ylab': 'PC2'}, topic_order=[1, 2, 3, 4, 5, 6])"
      ]
     },
     "execution_count": 33,
     "metadata": {},
     "output_type": "execute_result"
    }
   ],
   "source": [
    "pyLDAvis.enable_notebook()\n",
    "vis = pyLDAvis.gensim.prepare(converted_model_train, corpus_train, id2word_train, sort_topics=False)\n",
    "vis"
   ]
  },
  {
   "cell_type": "code",
   "execution_count": 34,
   "metadata": {},
   "outputs": [],
   "source": [
    "pyLDAvis.save_html(vis, 'Figures/lda_topic_graph_6_topics_training_data.html')"
   ]
  },
  {
   "cell_type": "markdown",
   "metadata": {},
   "source": [
    "## Combining the topics training df with the training data:"
   ]
  },
  {
   "cell_type": "code",
   "execution_count": 42,
   "metadata": {},
   "outputs": [],
   "source": [
    "# Combining the two dataframes:\n",
    "\n",
    "training_topics = pd.concat([X_train, train_topics_df], axis=1)"
   ]
  },
  {
   "cell_type": "code",
   "execution_count": 44,
   "metadata": {},
   "outputs": [],
   "source": [
    "# Dropping unneccesary columns:\n",
    "training_topics.drop(['Description_No', 'Keywords_in_Topic', 'Text'], axis=1, inplace=True)"
   ]
  },
  {
   "cell_type": "code",
   "execution_count": 46,
   "metadata": {},
   "outputs": [],
   "source": [
    "# Saving this for chart creation in another notebook:\n",
    "training_topics.to_csv('Datasets/train_topics_w_words.csv')"
   ]
  },
  {
   "cell_type": "code",
   "execution_count": 47,
   "metadata": {},
   "outputs": [],
   "source": [
    "training_topics.drop(['prepped_words'], axis=1, inplace=True)"
   ]
  },
  {
   "cell_type": "code",
   "execution_count": 48,
   "metadata": {
    "scrolled": true
   },
   "outputs": [
    {
     "data": {
      "text/html": [
       "<div>\n",
       "<style scoped>\n",
       "    .dataframe tbody tr th:only-of-type {\n",
       "        vertical-align: middle;\n",
       "    }\n",
       "\n",
       "    .dataframe tbody tr th {\n",
       "        vertical-align: top;\n",
       "    }\n",
       "\n",
       "    .dataframe thead th {\n",
       "        text-align: right;\n",
       "    }\n",
       "</style>\n",
       "<table border=\"1\" class=\"dataframe\">\n",
       "  <thead>\n",
       "    <tr style=\"text-align: right;\">\n",
       "      <th></th>\n",
       "      <th>beer_style</th>\n",
       "      <th>abv</th>\n",
       "      <th>num_ratings</th>\n",
       "      <th>beer_style_group</th>\n",
       "      <th>month_added</th>\n",
       "      <th>year_added</th>\n",
       "      <th>Dominant_Topic</th>\n",
       "      <th>Topic_Perc_Contrib</th>\n",
       "    </tr>\n",
       "  </thead>\n",
       "  <tbody>\n",
       "    <tr>\n",
       "      <td>0</td>\n",
       "      <td>Scottish Ale</td>\n",
       "      <td>5.2</td>\n",
       "      <td>342</td>\n",
       "      <td>Other</td>\n",
       "      <td>5</td>\n",
       "      <td>2018</td>\n",
       "      <td>4.0</td>\n",
       "      <td>0.2573</td>\n",
       "    </tr>\n",
       "    <tr>\n",
       "      <td>1</td>\n",
       "      <td>Old Ale</td>\n",
       "      <td>5.0</td>\n",
       "      <td>1088</td>\n",
       "      <td>Other</td>\n",
       "      <td>3</td>\n",
       "      <td>2012</td>\n",
       "      <td>6.0</td>\n",
       "      <td>0.1914</td>\n",
       "    </tr>\n",
       "    <tr>\n",
       "      <td>2</td>\n",
       "      <td>Lager - Winter</td>\n",
       "      <td>7.0</td>\n",
       "      <td>1479</td>\n",
       "      <td>Lager</td>\n",
       "      <td>12</td>\n",
       "      <td>2015</td>\n",
       "      <td>2.0</td>\n",
       "      <td>0.2352</td>\n",
       "    </tr>\n",
       "  </tbody>\n",
       "</table>\n",
       "</div>"
      ],
      "text/plain": [
       "       beer_style  abv  num_ratings beer_style_group  month_added  year_added  \\\n",
       "0    Scottish Ale  5.2          342            Other            5        2018   \n",
       "1         Old Ale  5.0         1088            Other            3        2012   \n",
       "2  Lager - Winter  7.0         1479            Lager           12        2015   \n",
       "\n",
       "   Dominant_Topic  Topic_Perc_Contrib  \n",
       "0             4.0              0.2573  \n",
       "1             6.0              0.1914  \n",
       "2             2.0              0.2352  "
      ]
     },
     "execution_count": 48,
     "metadata": {},
     "output_type": "execute_result"
    }
   ],
   "source": [
    "training_topics.head(3)"
   ]
  },
  {
   "cell_type": "markdown",
   "metadata": {},
   "source": [
    "# Applying the model to X_test to predict the dominant topic for each row:"
   ]
  },
  {
   "cell_type": "markdown",
   "metadata": {},
   "source": [
    "- This replicates applying the topic model to new, unseen data in the future, for example the beers from 2021 next year."
   ]
  },
  {
   "cell_type": "code",
   "execution_count": 49,
   "metadata": {},
   "outputs": [
    {
     "data": {
      "text/plain": [
       "<gensim.models.wrappers.ldamallet.LdaMallet at 0x19aeac39748>"
      ]
     },
     "execution_count": 49,
     "metadata": {},
     "output_type": "execute_result"
    }
   ],
   "source": [
    "optimal_training_model"
   ]
  },
  {
   "cell_type": "code",
   "execution_count": 50,
   "metadata": {},
   "outputs": [
    {
     "data": {
      "text/html": [
       "<div>\n",
       "<style scoped>\n",
       "    .dataframe tbody tr th:only-of-type {\n",
       "        vertical-align: middle;\n",
       "    }\n",
       "\n",
       "    .dataframe tbody tr th {\n",
       "        vertical-align: top;\n",
       "    }\n",
       "\n",
       "    .dataframe thead th {\n",
       "        text-align: right;\n",
       "    }\n",
       "</style>\n",
       "<table border=\"1\" class=\"dataframe\">\n",
       "  <thead>\n",
       "    <tr style=\"text-align: right;\">\n",
       "      <th></th>\n",
       "      <th>beer_style</th>\n",
       "      <th>abv</th>\n",
       "      <th>num_ratings</th>\n",
       "      <th>beer_style_group</th>\n",
       "      <th>prepped_words</th>\n",
       "      <th>month_added</th>\n",
       "      <th>year_added</th>\n",
       "    </tr>\n",
       "  </thead>\n",
       "  <tbody>\n",
       "    <tr>\n",
       "      <td>0</td>\n",
       "      <td>Grätzer / Grodziskie</td>\n",
       "      <td>4.8</td>\n",
       "      <td>423</td>\n",
       "      <td>Other</td>\n",
       "      <td>[traditional, polish, oaksmoked, wheat, york, ...</td>\n",
       "      <td>2</td>\n",
       "      <td>2014</td>\n",
       "    </tr>\n",
       "    <tr>\n",
       "      <td>1</td>\n",
       "      <td>IPA - Imperial / Double Black</td>\n",
       "      <td>10.0</td>\n",
       "      <td>713</td>\n",
       "      <td>IPA</td>\n",
       "      <td>[bridge, road, turned, celebrate, occasion, mu...</td>\n",
       "      <td>1</td>\n",
       "      <td>2016</td>\n",
       "    </tr>\n",
       "    <tr>\n",
       "      <td>2</td>\n",
       "      <td>Gruit / Ancient Herbed Ale</td>\n",
       "      <td>4.9</td>\n",
       "      <td>151</td>\n",
       "      <td>Other</td>\n",
       "      <td>[awesome, tumeric, flavored, gruit]</td>\n",
       "      <td>5</td>\n",
       "      <td>2016</td>\n",
       "    </tr>\n",
       "  </tbody>\n",
       "</table>\n",
       "</div>"
      ],
      "text/plain": [
       "                      beer_style   abv  num_ratings beer_style_group  \\\n",
       "0           Grätzer / Grodziskie   4.8          423            Other   \n",
       "1  IPA - Imperial / Double Black  10.0          713              IPA   \n",
       "2     Gruit / Ancient Herbed Ale   4.9          151            Other   \n",
       "\n",
       "                                       prepped_words  month_added  year_added  \n",
       "0  [traditional, polish, oaksmoked, wheat, york, ...            2        2014  \n",
       "1  [bridge, road, turned, celebrate, occasion, mu...            1        2016  \n",
       "2                [awesome, tumeric, flavored, gruit]            5        2016  "
      ]
     },
     "execution_count": 50,
     "metadata": {},
     "output_type": "execute_result"
    }
   ],
   "source": [
    "X_test = X_test.reset_index(drop=True)\n",
    "X_test.head(3)"
   ]
  },
  {
   "cell_type": "code",
   "execution_count": 51,
   "metadata": {},
   "outputs": [],
   "source": [
    "# Making a list of the words from the test set:\n",
    "test_words = X_test.prepped_words.to_list()"
   ]
  },
  {
   "cell_type": "code",
   "execution_count": 52,
   "metadata": {},
   "outputs": [],
   "source": [
    "# Creating a corpora dictionary with each word associated with an id\n",
    "id2word_test = corpora.Dictionary(test_words)"
   ]
  },
  {
   "cell_type": "code",
   "execution_count": 53,
   "metadata": {},
   "outputs": [],
   "source": [
    "# Creating the corpus for the model to use\n",
    "corpus_test = [id2word_train.doc2bow(text) for text in test_words]"
   ]
  },
  {
   "cell_type": "code",
   "execution_count": 54,
   "metadata": {},
   "outputs": [],
   "source": [
    "# Applying the LDA model that was built on the training data to the test corpus:\n",
    "test_topics_df = format_topics_sentences(optimal_training_model, corpus_test, test_words)"
   ]
  },
  {
   "cell_type": "code",
   "execution_count": 55,
   "metadata": {},
   "outputs": [
    {
     "data": {
      "text/html": [
       "<div>\n",
       "<style scoped>\n",
       "    .dataframe tbody tr th:only-of-type {\n",
       "        vertical-align: middle;\n",
       "    }\n",
       "\n",
       "    .dataframe tbody tr th {\n",
       "        vertical-align: top;\n",
       "    }\n",
       "\n",
       "    .dataframe thead th {\n",
       "        text-align: right;\n",
       "    }\n",
       "</style>\n",
       "<table border=\"1\" class=\"dataframe\">\n",
       "  <thead>\n",
       "    <tr style=\"text-align: right;\">\n",
       "      <th></th>\n",
       "      <th>Description_No</th>\n",
       "      <th>Dominant_Topic</th>\n",
       "      <th>Topic_Perc_Contrib</th>\n",
       "      <th>Keywords_in_Topic</th>\n",
       "      <th>Text</th>\n",
       "    </tr>\n",
       "  </thead>\n",
       "  <tbody>\n",
       "    <tr>\n",
       "      <td>0</td>\n",
       "      <td>0</td>\n",
       "      <td>5.0</td>\n",
       "      <td>0.2496</td>\n",
       "      <td>yeast, light, crisp, refreshing, belgian, clas...</td>\n",
       "      <td>[traditional, polish, oaksmoked, wheat, york, ...</td>\n",
       "    </tr>\n",
       "    <tr>\n",
       "      <td>1</td>\n",
       "      <td>1</td>\n",
       "      <td>2.0</td>\n",
       "      <td>0.2529</td>\n",
       "      <td>time, collaboration, friend, make, day, back, ...</td>\n",
       "      <td>[bridge, road, turned, celebrate, occasion, mu...</td>\n",
       "    </tr>\n",
       "    <tr>\n",
       "      <td>2</td>\n",
       "      <td>2</td>\n",
       "      <td>4.0</td>\n",
       "      <td>0.1893</td>\n",
       "      <td>bitterness, full, balanced, orange, give, body...</td>\n",
       "      <td>[awesome, tumeric, flavored, gruit]</td>\n",
       "    </tr>\n",
       "    <tr>\n",
       "      <td>3</td>\n",
       "      <td>3</td>\n",
       "      <td>6.0</td>\n",
       "      <td>0.2549</td>\n",
       "      <td>coffee, dark, chocolate, vanilla, rich, black,...</td>\n",
       "      <td>[interred, baltic, porter, archipelago, fresh,...</td>\n",
       "    </tr>\n",
       "    <tr>\n",
       "      <td>4</td>\n",
       "      <td>4</td>\n",
       "      <td>6.0</td>\n",
       "      <td>0.2616</td>\n",
       "      <td>coffee, dark, chocolate, vanilla, rich, black,...</td>\n",
       "      <td>[whey, inspired, medicinal, milk, victorian, e...</td>\n",
       "    </tr>\n",
       "    <tr>\n",
       "      <td>5</td>\n",
       "      <td>5</td>\n",
       "      <td>1.0</td>\n",
       "      <td>0.1852</td>\n",
       "      <td>dry, fruit, hopped, citra, tropical, citrus, m...</td>\n",
       "      <td>[fruit, wine, nectarine, pineappl]</td>\n",
       "    </tr>\n",
       "    <tr>\n",
       "      <td>6</td>\n",
       "      <td>6</td>\n",
       "      <td>4.0</td>\n",
       "      <td>0.2015</td>\n",
       "      <td>bitterness, full, balanced, orange, give, body...</td>\n",
       "      <td>[strong, english, complex, toffee, roast, good...</td>\n",
       "    </tr>\n",
       "    <tr>\n",
       "      <td>7</td>\n",
       "      <td>7</td>\n",
       "      <td>3.0</td>\n",
       "      <td>0.3786</td>\n",
       "      <td>barrel, aged, bourbon, oak, sour, fermented, c...</td>\n",
       "      <td>[st, florence, australian, wild, refermented, ...</td>\n",
       "    </tr>\n",
       "    <tr>\n",
       "      <td>8</td>\n",
       "      <td>8</td>\n",
       "      <td>3.0</td>\n",
       "      <td>0.2616</td>\n",
       "      <td>barrel, aged, bourbon, oak, sour, fermented, c...</td>\n",
       "      <td>[wine, barrel, aged, golden, fermented, mixed,...</td>\n",
       "    </tr>\n",
       "    <tr>\n",
       "      <td>9</td>\n",
       "      <td>9</td>\n",
       "      <td>5.0</td>\n",
       "      <td>0.2149</td>\n",
       "      <td>yeast, light, crisp, refreshing, belgian, clas...</td>\n",
       "      <td>[ustic, reinvented, remembered, using, yeast, ...</td>\n",
       "    </tr>\n",
       "  </tbody>\n",
       "</table>\n",
       "</div>"
      ],
      "text/plain": [
       "   Description_No  Dominant_Topic  Topic_Perc_Contrib  \\\n",
       "0               0             5.0              0.2496   \n",
       "1               1             2.0              0.2529   \n",
       "2               2             4.0              0.1893   \n",
       "3               3             6.0              0.2549   \n",
       "4               4             6.0              0.2616   \n",
       "5               5             1.0              0.1852   \n",
       "6               6             4.0              0.2015   \n",
       "7               7             3.0              0.3786   \n",
       "8               8             3.0              0.2616   \n",
       "9               9             5.0              0.2149   \n",
       "\n",
       "                                   Keywords_in_Topic  \\\n",
       "0  yeast, light, crisp, refreshing, belgian, clas...   \n",
       "1  time, collaboration, friend, make, day, back, ...   \n",
       "2  bitterness, full, balanced, orange, give, body...   \n",
       "3  coffee, dark, chocolate, vanilla, rich, black,...   \n",
       "4  coffee, dark, chocolate, vanilla, rich, black,...   \n",
       "5  dry, fruit, hopped, citra, tropical, citrus, m...   \n",
       "6  bitterness, full, balanced, orange, give, body...   \n",
       "7  barrel, aged, bourbon, oak, sour, fermented, c...   \n",
       "8  barrel, aged, bourbon, oak, sour, fermented, c...   \n",
       "9  yeast, light, crisp, refreshing, belgian, clas...   \n",
       "\n",
       "                                                Text  \n",
       "0  [traditional, polish, oaksmoked, wheat, york, ...  \n",
       "1  [bridge, road, turned, celebrate, occasion, mu...  \n",
       "2                [awesome, tumeric, flavored, gruit]  \n",
       "3  [interred, baltic, porter, archipelago, fresh,...  \n",
       "4  [whey, inspired, medicinal, milk, victorian, e...  \n",
       "5                 [fruit, wine, nectarine, pineappl]  \n",
       "6  [strong, english, complex, toffee, roast, good...  \n",
       "7  [st, florence, australian, wild, refermented, ...  \n",
       "8  [wine, barrel, aged, golden, fermented, mixed,...  \n",
       "9  [ustic, reinvented, remembered, using, yeast, ...  "
      ]
     },
     "execution_count": 55,
     "metadata": {},
     "output_type": "execute_result"
    }
   ],
   "source": [
    "# Formatting\n",
    "test_topics_df = test_topics_df.reset_index()\n",
    "test_topics_df.columns = ['Description_No', 'Dominant_Topic', 'Topic_Perc_Contrib', 'Keywords_in_Topic', 'Text']\n",
    "test_topics_df['Dominant_Topic'] = test_topics_df['Dominant_Topic'] + 1\n",
    "test_topics_df.head(10)"
   ]
  },
  {
   "cell_type": "code",
   "execution_count": 58,
   "metadata": {},
   "outputs": [],
   "source": [
    "# Combining the two dataframes:\n",
    "test_topics = pd.concat([X_test, test_topics_df], axis=1)"
   ]
  },
  {
   "cell_type": "code",
   "execution_count": 60,
   "metadata": {},
   "outputs": [],
   "source": [
    "# Dropping unneccesary columns:\n",
    "test_topics.drop(['Description_No', 'Keywords_in_Topic', 'Text'], axis=1, inplace=True)"
   ]
  },
  {
   "cell_type": "code",
   "execution_count": 61,
   "metadata": {},
   "outputs": [],
   "source": [
    "# Saving this for chart creation in another notebook:\n",
    "test_topics.to_csv('Datasets/test_topics_w_words.csv')"
   ]
  },
  {
   "cell_type": "code",
   "execution_count": 62,
   "metadata": {},
   "outputs": [],
   "source": [
    "test_topics.drop(['prepped_words'], axis=1, inplace=True)"
   ]
  },
  {
   "cell_type": "code",
   "execution_count": 63,
   "metadata": {},
   "outputs": [
    {
     "data": {
      "text/html": [
       "<div>\n",
       "<style scoped>\n",
       "    .dataframe tbody tr th:only-of-type {\n",
       "        vertical-align: middle;\n",
       "    }\n",
       "\n",
       "    .dataframe tbody tr th {\n",
       "        vertical-align: top;\n",
       "    }\n",
       "\n",
       "    .dataframe thead th {\n",
       "        text-align: right;\n",
       "    }\n",
       "</style>\n",
       "<table border=\"1\" class=\"dataframe\">\n",
       "  <thead>\n",
       "    <tr style=\"text-align: right;\">\n",
       "      <th></th>\n",
       "      <th>beer_style</th>\n",
       "      <th>abv</th>\n",
       "      <th>num_ratings</th>\n",
       "      <th>beer_style_group</th>\n",
       "      <th>month_added</th>\n",
       "      <th>year_added</th>\n",
       "      <th>Dominant_Topic</th>\n",
       "      <th>Topic_Perc_Contrib</th>\n",
       "    </tr>\n",
       "  </thead>\n",
       "  <tbody>\n",
       "    <tr>\n",
       "      <td>0</td>\n",
       "      <td>Grätzer / Grodziskie</td>\n",
       "      <td>4.8</td>\n",
       "      <td>423</td>\n",
       "      <td>Other</td>\n",
       "      <td>2</td>\n",
       "      <td>2014</td>\n",
       "      <td>5.0</td>\n",
       "      <td>0.2496</td>\n",
       "    </tr>\n",
       "    <tr>\n",
       "      <td>1</td>\n",
       "      <td>IPA - Imperial / Double Black</td>\n",
       "      <td>10.0</td>\n",
       "      <td>713</td>\n",
       "      <td>IPA</td>\n",
       "      <td>1</td>\n",
       "      <td>2016</td>\n",
       "      <td>2.0</td>\n",
       "      <td>0.2529</td>\n",
       "    </tr>\n",
       "    <tr>\n",
       "      <td>2</td>\n",
       "      <td>Gruit / Ancient Herbed Ale</td>\n",
       "      <td>4.9</td>\n",
       "      <td>151</td>\n",
       "      <td>Other</td>\n",
       "      <td>5</td>\n",
       "      <td>2016</td>\n",
       "      <td>4.0</td>\n",
       "      <td>0.1893</td>\n",
       "    </tr>\n",
       "  </tbody>\n",
       "</table>\n",
       "</div>"
      ],
      "text/plain": [
       "                      beer_style   abv  num_ratings beer_style_group  \\\n",
       "0           Grätzer / Grodziskie   4.8          423            Other   \n",
       "1  IPA - Imperial / Double Black  10.0          713              IPA   \n",
       "2     Gruit / Ancient Herbed Ale   4.9          151            Other   \n",
       "\n",
       "   month_added  year_added  Dominant_Topic  Topic_Perc_Contrib  \n",
       "0            2        2014             5.0              0.2496  \n",
       "1            1        2016             2.0              0.2529  \n",
       "2            5        2016             4.0              0.1893  "
      ]
     },
     "execution_count": 63,
     "metadata": {},
     "output_type": "execute_result"
    }
   ],
   "source": [
    "test_topics.head(3)"
   ]
  },
  {
   "cell_type": "markdown",
   "metadata": {},
   "source": [
    "# Saving test and training sets to use in the model:"
   ]
  },
  {
   "cell_type": "code",
   "execution_count": 64,
   "metadata": {},
   "outputs": [],
   "source": [
    "training_topics.to_csv('Datasets/X_train.csv', index= False, header=True)\n",
    "test_topics.to_csv('Datasets/X_test.csv', index= False, header=True)\n",
    "y_train.to_csv('Datasets/y_train.csv', index= False, header=True)\n",
    "y_test.to_csv('Datasets/y_test.csv', index= False, header=True)"
   ]
  }
 ],
 "metadata": {
  "kernelspec": {
   "display_name": "Python 3",
   "language": "python",
   "name": "python3"
  },
  "language_info": {
   "codemirror_mode": {
    "name": "ipython",
    "version": 3
   },
   "file_extension": ".py",
   "mimetype": "text/x-python",
   "name": "python",
   "nbconvert_exporter": "python",
   "pygments_lexer": "ipython3",
   "version": "3.7.9"
  },
  "toc": {
   "base_numbering": 1,
   "nav_menu": {},
   "number_sections": true,
   "sideBar": true,
   "skip_h1_title": false,
   "title_cell": "Table of Contents",
   "title_sidebar": "Contents",
   "toc_cell": false,
   "toc_position": {
    "height": "calc(100% - 180px)",
    "left": "10px",
    "top": "150px",
    "width": "512px"
   },
   "toc_section_display": true,
   "toc_window_display": true
  }
 },
 "nbformat": 4,
 "nbformat_minor": 2
}
